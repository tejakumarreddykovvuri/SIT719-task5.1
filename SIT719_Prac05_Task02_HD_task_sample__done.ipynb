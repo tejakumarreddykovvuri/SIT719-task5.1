{
  "nbformat": 4,
  "nbformat_minor": 0,
  "metadata": {
    "kernelspec": {
      "display_name": "Python 3",
      "language": "python",
      "name": "python3"
    },
    "language_info": {
      "codemirror_mode": {
        "name": "ipython",
        "version": 3
      },
      "file_extension": ".py",
      "mimetype": "text/x-python",
      "name": "python",
      "nbconvert_exporter": "python",
      "pygments_lexer": "ipython3",
      "version": "3.7.1"
    },
    "colab": {
      "name": "SIT719_Prac05_Task02_HD_task_sample _done.ipynb",
      "provenance": []
    }
  },
  "cells": [
    {
      "cell_type": "markdown",
      "metadata": {
        "id": "PZErhtfU8HWu"
      },
      "source": [
        "# SECTION 1: DECLARE THE MODULES"
      ]
    },
    {
      "cell_type": "code",
      "metadata": {
        "id": "yQZ1mxzQ8HXE"
      },
      "source": [
        "import os\n",
        "from collections import defaultdict\n",
        "import pandas as pd\n",
        "import numpy as np\n",
        "import matplotlib.pyplot as plt\n",
        "\n",
        "import warnings\n",
        "warnings.filterwarnings('ignore')\n",
        "\n",
        "\n"
      ],
      "execution_count": 4,
      "outputs": []
    },
    {
      "cell_type": "markdown",
      "metadata": {
        "id": "eKjCXWDl8HXK"
      },
      "source": [
        "# SECTION 2: Data import and preprocess\n",
        "#Run this but dont worry if it does not make any sense Jump to SECTION 3 that is related to your HD task."
      ]
    },
    {
      "cell_type": "code",
      "metadata": {
        "colab": {
          "base_uri": "https://localhost:8080/"
        },
        "id": "T3hCXXUg8HXM",
        "outputId": "50ed10ed-ecb7-4fff-81ff-dfcf5bde1897"
      },
      "source": [
        "!pip install wget\n",
        "import wget\n",
        "    \n",
        "link_to_data = 'https://raw.githubusercontent.com/SIT719/2020-S2/master/data/Week_5_NSL-KDD-Dataset/training_attack_types.txt?raw=true'\n",
        "DataSet = wget.download(link_to_data) "
      ],
      "execution_count": 5,
      "outputs": [
        {
          "output_type": "stream",
          "text": [
            "Collecting wget\n",
            "  Downloading https://files.pythonhosted.org/packages/47/6a/62e288da7bcda82b935ff0c6cfe542970f04e29c756b0e147251b2fb251f/wget-3.2.zip\n",
            "Building wheels for collected packages: wget\n",
            "  Building wheel for wget (setup.py) ... \u001b[?25l\u001b[?25hdone\n",
            "  Created wheel for wget: filename=wget-3.2-cp37-none-any.whl size=9681 sha256=998a78394f8619892d5eae982c6e91eaede42c251871c544043910160cfaa2dc\n",
            "  Stored in directory: /root/.cache/pip/wheels/40/15/30/7d8f7cea2902b4db79e3fea550d7d7b85ecb27ef992b618f3f\n",
            "Successfully built wget\n",
            "Installing collected packages: wget\n",
            "Successfully installed wget-3.2\n"
          ],
          "name": "stdout"
        }
      ]
    },
    {
      "cell_type": "code",
      "metadata": {
        "colab": {
          "base_uri": "https://localhost:8080/",
          "height": 35
        },
        "id": "fVusA4mJ8HXR",
        "outputId": "ffd0c08d-657e-4a48-b6d3-773e2c8cab50"
      },
      "source": [
        "DataSet"
      ],
      "execution_count": 6,
      "outputs": [
        {
          "output_type": "execute_result",
          "data": {
            "application/vnd.google.colaboratory.intrinsic+json": {
              "type": "string"
            },
            "text/plain": [
              "'training_attack_types.txt'"
            ]
          },
          "metadata": {
            "tags": []
          },
          "execution_count": 6
        }
      ]
    },
    {
      "cell_type": "code",
      "metadata": {
        "id": "YvCr0jSI8HXb"
      },
      "source": [
        "header_names = ['duration', 'protocol_type', 'service', 'flag', 'src_bytes', 'dst_bytes', 'land', 'wrong_fragment', 'urgent', 'hot', 'num_failed_logins', 'logged_in', 'num_compromised', 'root_shell', 'su_attempted', 'num_root', 'num_file_creations', 'num_shells', 'num_access_files', 'num_outbound_cmds', 'is_host_login', 'is_guest_login', 'count', 'srv_count', 'serror_rate', 'srv_serror_rate', 'rerror_rate', 'srv_rerror_rate', 'same_srv_rate', 'diff_srv_rate', 'srv_diff_host_rate', 'dst_host_count', 'dst_host_srv_count', 'dst_host_same_srv_rate', 'dst_host_diff_srv_rate', 'dst_host_same_src_port_rate', 'dst_host_srv_diff_host_rate', 'dst_host_serror_rate', 'dst_host_srv_serror_rate', 'dst_host_rerror_rate', 'dst_host_srv_rerror_rate', 'attack_type', 'success_pred']\n",
        "\n",
        "\n",
        "# Differentiating between nominal, binary, and numeric features\n",
        "\n",
        "# root_shell is marked as a continuous feature in the kddcup.names \n",
        "# file, but it is supposed to be a binary feature according to the \n",
        "# dataset documentation\n",
        "\n",
        "# training_attack_types.txt maps each of the 22 different attacks to 1 of 4 categories\n",
        "# file obtained from http://kdd.ics.uci.edu/databases/kddcup99/training_attack_types\n",
        "\n",
        "col_names = np.array(header_names)\n",
        "\n",
        "nominal_idx = [1, 2, 3]\n",
        "binary_idx = [6, 11, 13, 14, 20, 21]\n",
        "numeric_idx = list(set(range(41)).difference(nominal_idx).difference(binary_idx))\n",
        "\n",
        "nominal_cols = col_names[nominal_idx].tolist()\n",
        "binary_cols = col_names[binary_idx].tolist()\n",
        "numeric_cols = col_names[numeric_idx].tolist()"
      ],
      "execution_count": 7,
      "outputs": []
    },
    {
      "cell_type": "code",
      "metadata": {
        "id": "ADYcFqtb8HXd"
      },
      "source": [
        "# training_attack_types.txt maps each of the 22 different attacks to 1 of 4 categories\n",
        "# file obtained from http://kdd.ics.uci.edu/databases/kddcup99/training_attack_types\n",
        "\n",
        "category = defaultdict(list)\n",
        "category['benign'].append('normal')\n",
        "\n",
        "with open(DataSet, 'r') as f:\n",
        "    for line in f.readlines():\n",
        "        attack, cat = line.strip().split(' ')\n",
        "        category[cat].append(attack)\n",
        "\n",
        "attack_mapping = dict((v,k) for k in category for v in category[k])"
      ],
      "execution_count": 8,
      "outputs": []
    },
    {
      "cell_type": "code",
      "metadata": {
        "colab": {
          "base_uri": "https://localhost:8080/"
        },
        "id": "T5X6vaRI8HXe",
        "outputId": "2d0da260-8b13-40bc-faae-86955d5f9e18"
      },
      "source": [
        "attack_mapping"
      ],
      "execution_count": 9,
      "outputs": [
        {
          "output_type": "execute_result",
          "data": {
            "text/plain": [
              "{'apache2': 'dos',\n",
              " 'back': 'dos',\n",
              " 'buffer_overflow': 'u2r',\n",
              " 'ftp_write': 'r2l',\n",
              " 'guess_passwd': 'r2l',\n",
              " 'httptunnel': 'u2r',\n",
              " 'imap': 'r2l',\n",
              " 'ipsweep': 'probe',\n",
              " 'land': 'dos',\n",
              " 'loadmodule': 'u2r',\n",
              " 'mailbomb': 'dos',\n",
              " 'mscan': 'probe',\n",
              " 'multihop': 'r2l',\n",
              " 'named': 'r2l',\n",
              " 'neptune': 'dos',\n",
              " 'nmap': 'probe',\n",
              " 'normal': 'benign',\n",
              " 'perl': 'u2r',\n",
              " 'phf': 'r2l',\n",
              " 'pod': 'dos',\n",
              " 'portsweep': 'probe',\n",
              " 'processtable': 'dos',\n",
              " 'ps': 'u2r',\n",
              " 'rootkit': 'u2r',\n",
              " 'saint': 'probe',\n",
              " 'satan': 'probe',\n",
              " 'sendmail': 'r2l',\n",
              " 'smurf': 'dos',\n",
              " 'snmpgetattack': 'dos',\n",
              " 'snmpguess': 'r2l',\n",
              " 'spy': 'r2l',\n",
              " 'sqlattack': 'u2r',\n",
              " 'teardrop': 'dos',\n",
              " 'udpstorm': 'dos',\n",
              " 'warezclient': 'r2l',\n",
              " 'warezmaster': 'r2l',\n",
              " 'worm': 'probe',\n",
              " 'xlock': 'r2l',\n",
              " 'xsnoop': 'r2l',\n",
              " 'xterm': 'u2r'}"
            ]
          },
          "metadata": {
            "tags": []
          },
          "execution_count": 9
        }
      ]
    },
    {
      "cell_type": "code",
      "metadata": {
        "id": "3kly0LJr8HXe"
      },
      "source": [
        "#Processing Training Data\n",
        "\n",
        "train_file='https://raw.githubusercontent.com/SIT719/2020-S2/master/data/Week_5_NSL-KDD-Dataset/KDDTrain%2B.txt'\n",
        "\n",
        "\n",
        "\n",
        "train_df = pd.read_csv(train_file, names=header_names)\n",
        "\n",
        "train_df['attack_category'] = train_df['attack_type'] \\\n",
        "                                .map(lambda x: attack_mapping[x])\n",
        "\n",
        "train_df.drop(['success_pred'], axis=1, inplace=True)\n",
        "\n",
        "\n",
        "\n",
        "\n"
      ],
      "execution_count": 10,
      "outputs": []
    },
    {
      "cell_type": "code",
      "metadata": {
        "id": "lYNrt1fb8HXf"
      },
      "source": [
        "#Processing test Data\n",
        "test_file='https://raw.githubusercontent.com/SIT719/2020-S2/master/data/Week_5_NSL-KDD-Dataset/KDDTest%2B.txt'\n",
        "\n",
        "test_df = pd.read_csv(test_file, names=header_names)\n",
        "test_df['attack_category'] = test_df['attack_type'] \\\n",
        "                                .map(lambda x: attack_mapping[x])\n",
        "test_df.drop(['success_pred'], axis=1, inplace=True)"
      ],
      "execution_count": 11,
      "outputs": []
    },
    {
      "cell_type": "code",
      "metadata": {
        "scrolled": true,
        "colab": {
          "base_uri": "https://localhost:8080/",
          "height": 596
        },
        "id": "u6CTfxrd8HXi",
        "outputId": "ec79ef6c-1171-49ea-fd4c-43c6a1f320a4"
      },
      "source": [
        "train_attack_types = train_df['attack_type'].value_counts()\n",
        "train_attack_cats = train_df['attack_category'].value_counts()\n",
        "\n",
        "test_attack_types = test_df['attack_type'].value_counts()\n",
        "test_attack_cats = test_df['attack_category'].value_counts()\n",
        "\n",
        "train_attack_types.plot(kind='barh', figsize=(20,10), fontsize=20)\n",
        "\n",
        "train_attack_cats.plot(kind='barh', figsize=(20,10), fontsize=30)\n",
        "\n",
        "train_df[binary_cols].describe().transpose()\n",
        "train_df.groupby(['su_attempted']).size()\n",
        "train_df['su_attempted'].replace(2, 0, inplace=True)\n",
        "test_df['su_attempted'].replace(2, 0, inplace=True)\n",
        "train_df.groupby(['su_attempted']).size()\n",
        "train_df.groupby(['num_outbound_cmds']).size()\n",
        "\n",
        "#Now, that's not a very useful feature - let's drop it from the dataset\n",
        "\n",
        "train_df.drop('num_outbound_cmds', axis = 1, inplace=True)\n",
        "test_df.drop('num_outbound_cmds', axis = 1, inplace=True)\n",
        "numeric_cols.remove('num_outbound_cmds')\n",
        "\n",
        "\n",
        "\n",
        "#Data Preparation\n",
        "\n",
        "train_Y = train_df['attack_category']\n",
        "train_x_raw = train_df.drop(['attack_category','attack_type'], axis=1)\n",
        "test_Y = test_df['attack_category']\n",
        "test_x_raw = test_df.drop(['attack_category','attack_type'], axis=1)\n",
        "\n",
        "\n",
        "combined_df_raw = pd.concat([train_x_raw, test_x_raw])\n",
        "combined_df = pd.get_dummies(combined_df_raw, columns=nominal_cols, drop_first=True)\n",
        "\n",
        "train_x = combined_df[:len(train_x_raw)]\n",
        "test_x = combined_df[len(train_x_raw):]\n",
        "\n",
        "# Store dummy variable feature names\n",
        "dummy_variables = list(set(train_x)-set(combined_df_raw))\n",
        "\n",
        "#execute the commands in console\n",
        "train_x.describe()\n",
        "train_x['duration'].describe()\n",
        "# Experimenting with StandardScaler on the single 'duration' feature\n",
        "from sklearn.preprocessing import StandardScaler\n",
        "\n",
        "durations = train_x['duration'].values.reshape(-1, 1)\n",
        "standard_scaler = StandardScaler().fit(durations)\n",
        "scaled_durations = standard_scaler.transform(durations)\n",
        "pd.Series(scaled_durations.flatten()).describe()\n",
        "\n",
        "# Experimenting with MinMaxScaler on the single 'duration' feature\n",
        "from sklearn.preprocessing import MinMaxScaler\n",
        "\n",
        "min_max_scaler = MinMaxScaler().fit(durations)\n",
        "min_max_scaled_durations = min_max_scaler.transform(durations)\n",
        "pd.Series(min_max_scaled_durations.flatten()).describe()\n",
        "\n",
        "# Experimenting with RobustScaler on the single 'duration' feature\n",
        "from sklearn.preprocessing import RobustScaler\n",
        "\n",
        "min_max_scaler = RobustScaler().fit(durations)\n",
        "robust_scaled_durations = min_max_scaler.transform(durations)\n",
        "pd.Series(robust_scaled_durations.flatten()).describe()\n",
        "\n",
        "# Experimenting with MaxAbsScaler on the single 'duration' feature\n",
        "from sklearn.preprocessing import MaxAbsScaler\n",
        "\n",
        "max_Abs_scaler = MaxAbsScaler().fit(durations)\n",
        "robust_scaled_durations = max_Abs_scaler.transform(durations)\n",
        "pd.Series(robust_scaled_durations.flatten()).describe()\n",
        "\n",
        "# Let's proceed with StandardScaler- Apply to all the numeric columns\n",
        "\n",
        "standard_scaler = StandardScaler().fit(train_x[numeric_cols])\n",
        "\n",
        "train_x[numeric_cols] = \\\n",
        "    standard_scaler.transform(train_x[numeric_cols])\n",
        "\n",
        "test_x[numeric_cols] = \\\n",
        "    standard_scaler.transform(test_x[numeric_cols])\n",
        "    \n",
        "train_x.describe()\n",
        "\n",
        "\n",
        "\n",
        "train_Y_bin = train_Y.apply(lambda x: 0 if x is 'benign' else 1)\n",
        "test_Y_bin = test_Y.apply(lambda x: 0 if x is 'benign' else 1)\n"
      ],
      "execution_count": 12,
      "outputs": [
        {
          "output_type": "display_data",
          "data": {
            "image/png": "[encoded data removed]",
            "text/plain": [
              "<Figure size 1440x720 with 1 Axes>"
            ]
          },
          "metadata": {
            "tags": [],
            "needs_background": "light"
          }
        }
      ]
    },
    {
      "cell_type": "markdown",
      "metadata": {
        "id": "RHpcbAFb8HXp"
      },
      "source": [
        "# SECTION 3: Multi class classification\n",
        "#This is the section where you have to add other algorithms, tune algorithms and visualize to compare and analyze algorithms"
      ]
    },
    {
      "cell_type": "code",
      "metadata": {
        "colab": {
          "base_uri": "https://localhost:8080/"
        },
        "id": "51mVT0FF8HXq",
        "outputId": "77f9daa4-b13c-4570-cf3e-5f34358cf581"
      },
      "source": [
        "# 5-class classification version\n",
        "from sklearn.tree import DecisionTreeClassifier\n",
        "from sklearn.metrics import confusion_matrix, zero_one_loss\n",
        "\n",
        "classifier = DecisionTreeClassifier(random_state=17)\n",
        "classifier.fit(train_x, train_Y)\n",
        "\n",
        "pred_y = classifier.predict(test_x)\n",
        "\n",
        "results = confusion_matrix(test_Y, pred_y)\n",
        "error = zero_one_loss(test_Y, pred_y)\n",
        "\n",
        "print(results)\n",
        "print(error)\n"
      ],
      "execution_count": 13,
      "outputs": [
        {
          "output_type": "stream",
          "text": [
            "[[9365   56  289    1    0]\n",
            " [1541 5998   97    0    0]\n",
            " [ 677  220 1526    0    0]\n",
            " [2278    1   14  277    4]\n",
            " [ 175    0    5    5   15]]\n",
            "0.2378903477643719\n"
          ],
          "name": "stdout"
        }
      ]
    },
    {
      "cell_type": "markdown",
      "metadata": {
        "id": "LHAh-usTCJ6Y"
      },
      "source": [
        "Multi-Layer Perceptron Classifier"
      ]
    },
    {
      "cell_type": "code",
      "metadata": {
        "colab": {
          "base_uri": "https://localhost:8080/",
          "height": 721
        },
        "id": "YVKAJhRU8HXr",
        "outputId": "e5bf70d2-00c5-4688-de67-ebe349434516"
      },
      "source": [
        "from sklearn.metrics import confusion_matrix, zero_one_loss\n",
        "from sklearn.metrics import classification_report\n",
        "from sklearn.metrics import plot_confusion_matrix\n",
        "from sklearn.neural_network import MLPClassifier\n",
        "import timeit\n",
        "\n",
        "start1 = timeit.default_timer()\n",
        "classifier_1 = MLPClassifier(solver = 'lbfgs', alpha = 1e-5, hidden_layer_sizes = (5,2), random_state = 1)\n",
        "\n",
        "classifier_1.fit(train_x, train_Y)\n",
        "stop1 = timeit.default_timer()\n",
        "train_time1= stop1 - start1\n",
        "#Train time\n",
        "print('Train Time(s): ',train_time1)\n",
        "start2 = timeit.default_timer()\n",
        "prediction_y_1 = classifier_1.predict(test_x)\n",
        "\n",
        "P = confusion_matrix(test_Y,prediction_y_1)\n",
        "error = zero_one_loss(test_Y,prediction_y_1)\n",
        "\n",
        "print(P)\n",
        "print('error:',error)\n",
        "print('Classification Report:')\n",
        "print(classification_report(test_Y,prediction_y_1))\n",
        "stop2 = timeit.default_timer()\n",
        "test_time1= stop2 - start2 \n",
        "#Test time\n",
        "print('Test Time(s): ',test_time1)\n",
        "print('************************************')\n",
        "print('The accuracy for each attack type is', P.diagonal()/P.sum(axis=1))\n",
        "FalsePositive1 = P.sum(axis=0) - P.diagonal()\n",
        "FalseNegative1 = P.sum(axis=1) - P.diagonal()\n",
        "TruePositive1 = P.diagonal()\n",
        "TrueNegative1 = P.sum() - (FalsePositive1 + FalseNegative1 + TruePositive1)\n",
        "print('************************************')\n",
        "print('the Fpr rate is:', FalsePositive1/(FalsePositive1 + TrueNegative1))\n",
        "print()\n",
        "plot_confusion_matrix(classifier_1, test_x, test_Y)\n",
        "plt.show()\n"
      ],
      "execution_count": 14,
      "outputs": [
        {
          "output_type": "stream",
          "text": [
            "Train Time(s):  45.30148123399999\n",
            "[[9026   57  590   38    0]\n",
            " [1804 5661  170    1    0]\n",
            " [ 489  166 1768    0    0]\n",
            " [1966  255    2  351    0]\n",
            " [ 182    8    2    8    0]]\n",
            "error: 0.2545244854506742\n",
            "Classification Report:\n",
            "              precision    recall  f1-score   support\n",
            "\n",
            "      benign       0.67      0.93      0.78      9711\n",
            "         dos       0.92      0.74      0.82      7636\n",
            "       probe       0.70      0.73      0.71      2423\n",
            "         r2l       0.88      0.14      0.24      2574\n",
            "         u2r       0.00      0.00      0.00       200\n",
            "\n",
            "    accuracy                           0.75     22544\n",
            "   macro avg       0.63      0.51      0.51     22544\n",
            "weighted avg       0.78      0.75      0.72     22544\n",
            "\n",
            "Test Time(s):  0.6406531529999029\n",
            "************************************\n",
            "The accuracy for each attack type is [0.92946144 0.74135673 0.72967396 0.13636364 0.        ]\n",
            "************************************\n",
            "the Fpr rate is: [0.34606094 0.03259995 0.03797028 0.00235353 0.        ]\n",
            "\n"
          ],
          "name": "stdout"
        },
        {
          "output_type": "display_data",
          "data": {
            "image/png": "[encoded data removed]",
            "text/plain": [
              "<Figure size 432x288 with 2 Axes>"
            ]
          },
          "metadata": {
            "tags": [],
            "needs_background": "light"
          }
        }
      ]
    },
    {
      "cell_type": "markdown",
      "metadata": {
        "id": "ukgxhHl7CNZr"
      },
      "source": [
        "\n",
        "Logistic Regression"
      ]
    },
    {
      "cell_type": "code",
      "metadata": {
        "colab": {
          "base_uri": "https://localhost:8080/",
          "height": 738
        },
        "id": "der8ILUICPqD",
        "outputId": "81edf753-d214-46c9-ce32-cf8f69f51b0b"
      },
      "source": [
        "from sklearn.linear_model import LogisticRegression\n",
        "from sklearn.metrics import confusion_matrix, zero_one_loss\n",
        "from sklearn.metrics import classification_report\n",
        "from sklearn.metrics import plot_confusion_matrix\n",
        "import timeit\n",
        "\n",
        "start3 = timeit.default_timer()\n",
        "classifier_2 = LogisticRegression(random_state=0)\n",
        "classifier_2.fit(train_x, train_Y)\n",
        "stop3 = timeit.default_timer()\n",
        "train_time2 = stop3 - start3\n",
        "#Train time\n",
        "print('Train Time(s): ',train_time2)\n",
        "start4 = timeit.default_timer()\n",
        "prediction_y_2 = classifier_2.predict(test_x)\n",
        "\n",
        "P = confusion_matrix(test_Y,prediction_y_2)\n",
        "error = zero_one_loss(test_Y,prediction_y_2)\n",
        "\n",
        "print(P)\n",
        "print('error:',error)\n",
        "print('Classification Report:')\n",
        "print(classification_report(test_Y,prediction_y_2))\n",
        "stop4 = timeit.default_timer()\n",
        "test_time2 = stop4 - start4\n",
        "#Test time\n",
        "print('Test Time(s): ',test_time2)\n",
        "print('************************************')\n",
        "print('The accuracy for each attack type is', P.diagonal()/P.sum(axis=1))\n",
        "FalsePositive2 = P.sum(axis=0) - P.diagonal()\n",
        "FalseNegative2 = P.sum(axis=1) - P.diagonal()\n",
        "TruePositive2 = P.diagonal()\n",
        "TrueNegative2 = P.sum() - (FalsePositive2 + FalseNegative2 + TruePositive2)\n",
        "print('************************************')\n",
        "print('the Fpr rate is:', FalsePositive2/(FalsePositive2 + TrueNegative2))\n",
        "print()\n",
        "plot_confusion_matrix(classifier_2, test_x, test_Y)\n",
        "plt.show()"
      ],
      "execution_count": 15,
      "outputs": [
        {
          "output_type": "stream",
          "text": [
            "Train Time(s):  19.873456025999985\n",
            "[[8993   90  624    2    2]\n",
            " [1560 6052   24    0    0]\n",
            " [ 496   99 1825    3    0]\n",
            " [2471    2    2   99    0]\n",
            " [ 184    3    0    5    8]]\n",
            "error: 0.2469393186657204\n",
            "Classification Report:\n",
            "              precision    recall  f1-score   support\n",
            "\n",
            "      benign       0.66      0.93      0.77      9711\n",
            "         dos       0.97      0.79      0.87      7636\n",
            "       probe       0.74      0.75      0.75      2423\n",
            "         r2l       0.91      0.04      0.07      2574\n",
            "         u2r       0.80      0.04      0.08       200\n",
            "\n",
            "    accuracy                           0.75     22544\n",
            "   macro avg       0.81      0.51      0.51     22544\n",
            "weighted avg       0.80      0.75      0.72     22544\n",
            "\n",
            "Test Time(s):  0.9125117710000268\n",
            "************************************\n",
            "The accuracy for each attack type is [0.92606323 0.79256155 0.75319851 0.03846154 0.04      ]\n",
            "************************************\n",
            "the Fpr rate is: [3.67100444e-01 1.30131473e-02 3.23045574e-02 5.00751127e-04\n",
            " 8.95094880e-05]\n",
            "\n"
          ],
          "name": "stdout"
        },
        {
          "output_type": "display_data",
          "data": {
            "image/png": "[encoded data removed]",
            "text/plain": [
              "<Figure size 432x288 with 2 Axes>"
            ]
          },
          "metadata": {
            "tags": [],
            "needs_background": "light"
          }
        }
      ]
    },
    {
      "cell_type": "markdown",
      "metadata": {
        "id": "YW4OyU3KCTAk"
      },
      "source": [
        "Nearest Centroid"
      ]
    },
    {
      "cell_type": "code",
      "metadata": {
        "colab": {
          "base_uri": "https://localhost:8080/",
          "height": 738
        },
        "id": "bUdmZ7t8CU1a",
        "outputId": "a5bd648f-91da-464e-8c04-da957a7e716f"
      },
      "source": [
        "from sklearn.metrics import confusion_matrix, zero_one_loss\n",
        "from sklearn.metrics import classification_report\n",
        "from sklearn.metrics import plot_confusion_matrix\n",
        "from sklearn.neighbors import NearestCentroid\n",
        "import timeit\n",
        "\n",
        "start5 = timeit.default_timer()\n",
        "\n",
        "classifier_3 = NearestCentroid()\n",
        "classifier_3.fit(train_x, train_Y)\n",
        "stop5 = timeit.default_timer()\n",
        "train_time3 = stop5 - start5\n",
        "#Train time\n",
        "print('Train Time(s): ',train_time3)\n",
        "start6 = timeit.default_timer()\n",
        "prediction_y_3 = classifier_3.predict(test_x)\n",
        "\n",
        "P = confusion_matrix(test_Y, prediction_y_3)\n",
        "error = zero_one_loss(test_Y, prediction_y_3)\n",
        "\n",
        "print(P)\n",
        "print('error:', error)\n",
        "print('Classification Report:')\n",
        "print(classification_report(test_Y, prediction_y_3))\n",
        "stop6 = timeit.default_timer()\n",
        "test_time3 = stop6 - start6 \n",
        "#Test time\n",
        "print('Test Time(s): ',test_time3)\n",
        "print('************************************')\n",
        "print('The accuracy for each attack type is', P.diagonal()/P.sum(axis=1))\n",
        "FalsePositive3 = P.sum(axis=0) - P.diagonal()\n",
        "FalseNegative3 = P.sum(axis=1) - P.diagonal()\n",
        "TruePositive3 = P.diagonal()\n",
        "TrueNegative3 = P.sum() - (FalsePositive3 + FalseNegative3 + TruePositive3)\n",
        "print('************************************')\n",
        "print('the Fpr rate is:', FalsePositive3/(FalsePositive3 + TrueNegative3))\n",
        "print()\n",
        "plot_confusion_matrix(classifier_3, test_x, test_Y)\n",
        "plt.show()\n"
      ],
      "execution_count": 16,
      "outputs": [
        {
          "output_type": "stream",
          "text": [
            "Train Time(s):  0.3140908699999727\n",
            "[[9402    6  276   26    1]\n",
            " [2523 1949 3164    0    0]\n",
            " [ 112  225 2086    0    0]\n",
            " [1975    3  107  486    3]\n",
            " [  53    0  114   10   23]]\n",
            "error: 0.38138750887154005\n",
            "Classification Report:\n",
            "              precision    recall  f1-score   support\n",
            "\n",
            "      benign       0.67      0.97      0.79      9711\n",
            "         dos       0.89      0.26      0.40      7636\n",
            "       probe       0.36      0.86      0.51      2423\n",
            "         r2l       0.93      0.19      0.31      2574\n",
            "         u2r       0.85      0.12      0.20       200\n",
            "\n",
            "    accuracy                           0.62     22544\n",
            "   macro avg       0.74      0.48      0.44     22544\n",
            "weighted avg       0.74      0.62      0.57     22544\n",
            "\n",
            "Test Time(s):  0.9474734820000776\n",
            "************************************\n",
            "The accuracy for each attack type is [0.96818041 0.25523834 0.86091622 0.18881119 0.115     ]\n",
            "************************************\n",
            "the Fpr rate is: [3.63360087e-01 1.56962705e-02 1.81949207e-01 1.80270406e-03\n",
            " 1.79018976e-04]\n",
            "\n"
          ],
          "name": "stdout"
        },
        {
          "output_type": "display_data",
          "data": {
            "image/png": "[encoded data removed]",
            "text/plain": [
              "<Figure size 432x288 with 2 Axes>"
            ]
          },
          "metadata": {
            "tags": [],
            "needs_background": "light"
          }
        }
      ]
    },
    {
      "cell_type": "markdown",
      "metadata": {
        "id": "9fqJIEV9Caja"
      },
      "source": [
        "\n",
        "Random Forest Classifier"
      ]
    },
    {
      "cell_type": "code",
      "metadata": {
        "colab": {
          "base_uri": "https://localhost:8080/",
          "height": 721
        },
        "id": "4BkVO0mCCcHc",
        "outputId": "545b88d3-b8ea-48fb-9ad2-8ae7a96fc798"
      },
      "source": [
        "from sklearn.metrics import confusion_matrix, zero_one_loss\n",
        "from sklearn.metrics import classification_report\n",
        "from sklearn.metrics import plot_confusion_matrix\n",
        "from sklearn.ensemble import RandomForestClassifier\n",
        "import timeit\n",
        "\n",
        "start7 = timeit.default_timer()\n",
        "classifier_4 = RandomForestClassifier(max_depth = 2, random_state = 0)\n",
        "classifier_4.fit(train_x, train_Y)\n",
        "stop7 = timeit.default_timer()\n",
        "train_time4 = stop7 - start7\n",
        "#Train time\n",
        "print('Train Time(s): ',train_time4)\n",
        "start8 = timeit.default_timer()\n",
        "prediction_y_4 = classifier_4.predict(test_x)\n",
        "\n",
        "P = confusion_matrix(test_Y, prediction_y_4)\n",
        "error = zero_one_loss(test_Y, prediction_y_4)\n",
        "\n",
        "print(P)\n",
        "print('error:',error)\n",
        "print('Classification Report:')\n",
        "print(classification_report(test_Y, prediction_y_4))\n",
        "stop8 = timeit.default_timer()\n",
        "test_time4 = stop8 - start8\n",
        "#Test time\n",
        "print('Test Time(s): ',test_time4)\n",
        "print('************************************')\n",
        "print('The accuracy for each attack type is', P.diagonal()/P.sum(axis=1))\n",
        "FalsePositive4 = P.sum(axis=0) - P.diagonal()\n",
        "FalseNegative4 = P.sum(axis=1) - P.diagonal()\n",
        "TruePositive4 = P.diagonal()\n",
        "TrueNegative4 = P.sum() - (FalsePositive4 + FalseNegative4 + TruePositive4)\n",
        "print('************************************')\n",
        "print('the Fpr rate is:', FalsePositive4/(FalsePositive4 + TrueNegative4))\n",
        "print()\n",
        "plot_confusion_matrix(classifier_4, test_x, test_Y)\n",
        "plt.show()"
      ],
      "execution_count": 17,
      "outputs": [
        {
          "output_type": "stream",
          "text": [
            "Train Time(s):  4.731639030000224\n",
            "[[9698   13    0    0    0]\n",
            " [2770 4866    0    0    0]\n",
            " [1243 1180    0    0    0]\n",
            " [2574    0    0    0    0]\n",
            " [ 184   16    0    0    0]]\n",
            "error: 0.3539744499645139\n",
            "Classification Report:\n",
            "              precision    recall  f1-score   support\n",
            "\n",
            "      benign       0.59      1.00      0.74      9711\n",
            "         dos       0.80      0.64      0.71      7636\n",
            "       probe       0.00      0.00      0.00      2423\n",
            "         r2l       0.00      0.00      0.00      2574\n",
            "         u2r       0.00      0.00      0.00       200\n",
            "\n",
            "    accuracy                           0.65     22544\n",
            "   macro avg       0.28      0.33      0.29     22544\n",
            "weighted avg       0.52      0.65      0.56     22544\n",
            "\n",
            "Test Time(s):  1.0354107289999774\n",
            "************************************\n",
            "The accuracy for each attack type is [0.99866131 0.63724463 0.         0.         0.        ]\n",
            "************************************\n",
            "the Fpr rate is: [0.52762409 0.0810974  0.         0.         0.        ]\n",
            "\n"
          ],
          "name": "stdout"
        },
        {
          "output_type": "display_data",
          "data": {
            "image/png": "[encoded data removed]",
            "text/plain": [
              "<Figure size 432x288 with 2 Axes>"
            ]
          },
          "metadata": {
            "tags": [],
            "needs_background": "light"
          }
        }
      ]
    },
    {
      "cell_type": "markdown",
      "metadata": {
        "id": "zSGC7sxnCewQ"
      },
      "source": [
        "Support Vector Machine"
      ]
    },
    {
      "cell_type": "code",
      "metadata": {
        "colab": {
          "base_uri": "https://localhost:8080/",
          "height": 738
        },
        "id": "qvxVfDpaCgYk",
        "outputId": "69d15b54-de96-459b-b7dd-16c98202b79c"
      },
      "source": [
        "from sklearn.metrics import confusion_matrix, zero_one_loss\n",
        "from sklearn.metrics import classification_report\n",
        "from sklearn.metrics import plot_confusion_matrix\n",
        "from sklearn import svm\n",
        "import timeit\n",
        "\n",
        "start9 = timeit.default_timer()\n",
        "classifier_5 = svm.SVC()\n",
        "classifier_5.fit(train_x, train_Y)\n",
        "stop9 = timeit.default_timer()\n",
        "train_time5 = stop9 - start9\n",
        "#Train time\n",
        "print('Train Time(s): ',train_time5)\n",
        "start10 = timeit.default_timer()\n",
        "prediction_y_5 = classifier_5.predict(test_x)\n",
        "\n",
        "P = confusion_matrix(test_Y, prediction_y_5)\n",
        "error = zero_one_loss(test_Y, prediction_y_5)\n",
        "\n",
        "print(P)\n",
        "print('error:', error)\n",
        "print('Classification Report:')\n",
        "print(classification_report(test_Y, prediction_y_5))\n",
        "stop10 = timeit.default_timer()\n",
        "test_time5 = stop10 - start10 \n",
        "#Test time\n",
        "print('Test Time(s): ',test_time5)\n",
        "print('************************************')\n",
        "print('The accuracy for each attack type is', P.diagonal()/P.sum(axis=1))\n",
        "FalsePositive5 = P.sum(axis=0) - P.diagonal()\n",
        "FalseNegative5 = P.sum(axis=1) - P.diagonal()\n",
        "TruePositive5 = P.diagonal()\n",
        "TrueNegative5 = P.sum() - (FalsePositive5 + FalseNegative5 + TruePositive5)\n",
        "print('************************************')\n",
        "print('the Fpr rate is:', FalsePositive5/(FalsePositive5 + TrueNegative5))\n",
        "print()\n",
        "plot_confusion_matrix(classifier_5, test_x, test_Y)\n",
        "plt.show()"
      ],
      "execution_count": 18,
      "outputs": [
        {
          "output_type": "stream",
          "text": [
            "Train Time(s):  175.19495878399994\n",
            "[[9462   62  187    0    0]\n",
            " [1882 5693   61    0    0]\n",
            " [ 836  175 1412    0    0]\n",
            " [2318    0    4  252    0]\n",
            " [ 177    0   15    3    5]]\n",
            "error: 0.2537260468417317\n",
            "Classification Report:\n",
            "              precision    recall  f1-score   support\n",
            "\n",
            "      benign       0.64      0.97      0.78      9711\n",
            "         dos       0.96      0.75      0.84      7636\n",
            "       probe       0.84      0.58      0.69      2423\n",
            "         r2l       0.99      0.10      0.18      2574\n",
            "         u2r       1.00      0.03      0.05       200\n",
            "\n",
            "    accuracy                           0.75     22544\n",
            "   macro avg       0.89      0.49      0.51     22544\n",
            "weighted avg       0.82      0.75      0.71     22544\n",
            "\n",
            "Test Time(s):  20.33766886400008\n",
            "************************************\n",
            "The accuracy for each attack type is [0.97435897 0.74554741 0.58274866 0.0979021  0.025     ]\n",
            "************************************\n",
            "the Fpr rate is: [4.06218343e-01 1.58975047e-02 1.32697182e-02 1.50225338e-04\n",
            " 0.00000000e+00]\n",
            "\n"
          ],
          "name": "stdout"
        },
        {
          "output_type": "display_data",
          "data": {
            "image/png": "[encoded data removed]",
            "text/plain": [
              "<Figure size 432x288 with 2 Axes>"
            ]
          },
          "metadata": {
            "tags": [],
            "needs_background": "light"
          }
        }
      ]
    },
    {
      "cell_type": "markdown",
      "metadata": {
        "id": "B2oECnhNUq-h"
      },
      "source": [
        "Confusion Matrix for all algorithms"
      ]
    },
    {
      "cell_type": "code",
      "metadata": {
        "colab": {
          "base_uri": "https://localhost:8080/",
          "height": 265
        },
        "id": "JSczB_XYUqWM",
        "outputId": "89bdcfc8-5ee4-4cd2-c379-11657fb2a021"
      },
      "source": [
        "from sklearn.metrics import plot_confusion_matrix\n",
        "B_R=['MLP',  'Regression','Centroid', 'RF Classifier','SVM']\n",
        "B_Y=['0.75','0.75','0.62','0.65','0.75']\n",
        "plt.bar(B_R,B_Y)\n",
        "plt.show()"
      ],
      "execution_count": 23,
      "outputs": [
        {
          "output_type": "display_data",
          "data": {
            "image/png": "[encoded data removed]",
            "text/plain": [
              "<Figure size 432x288 with 1 Axes>"
            ]
          },
          "metadata": {
            "tags": [],
            "needs_background": "light"
          }
        }
      ]
    }
  ]
}