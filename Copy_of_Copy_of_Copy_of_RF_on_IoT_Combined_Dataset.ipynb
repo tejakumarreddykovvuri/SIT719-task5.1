{
  "nbformat": 4,
  "nbformat_minor": 0,
  "metadata": {
    "colab": {
      "name": "Copy of Copy of Copy of RF on IoT Combined Dataset.ipynb",
      "provenance": [],
      "collapsed_sections": []
    },
    "kernelspec": {
      "display_name": "Python 3",
      "language": "python",
      "name": "python3"
    },
    "language_info": {
      "codemirror_mode": {
        "name": "ipython",
        "version": 3
      },
      "file_extension": ".py",
      "mimetype": "text/x-python",
      "name": "python",
      "nbconvert_exporter": "python",
      "pygments_lexer": "ipython3",
      "version": "3.7.3"
    }
  },
  "cells": [
    {
      "cell_type": "markdown",
      "metadata": {
        "id": "y61xJzKhjsAt"
      },
      "source": [
        "# **Random Forest(RF) on IoT Combined Dataset**"
      ]
    },
    {
      "cell_type": "markdown",
      "metadata": {
        "id": "SSWJ-I3UKZ6h"
      },
      "source": [
        "****Importing libraries****"
      ]
    },
    {
      "cell_type": "code",
      "metadata": {
        "id": "AwMrsTn_KVhy"
      },
      "source": [
        "import timeit\n",
        "import pandas as pd\n",
        "import numpy as np\n",
        "import seaborn as sns\n",
        "import matplotlib.pyplot as plt\n",
        "from sklearn.model_selection import train_test_split\n",
        "from sklearn.ensemble import RandomForestClassifier\n",
        "from sklearn import metrics\n",
        "from sklearn.metrics import classification_report, confusion_matrix\n",
        "from sklearn.metrics import roc_curve\n",
        "from sklearn.metrics import roc_auc_score\n",
        "import warnings\n",
        "%matplotlib inline\n",
        "warnings.filterwarnings('ignore')\n",
        "#warnings.filterwarnings('always') "
      ],
      "execution_count": 3,
      "outputs": []
    },
    {
      "cell_type": "markdown",
      "metadata": {
        "id": "VVVIs7G_KdTq"
      },
      "source": [
        "**Upload File**"
      ]
    },
    {
      "cell_type": "code",
      "metadata": {
        "id": "24Ek4cCej76I"
      },
      "source": [
        "#uploaded = files.upload()"
      ],
      "execution_count": 4,
      "outputs": []
    },
    {
      "cell_type": "markdown",
      "metadata": {
        "id": "4jmo-htGGdCD"
      },
      "source": [
        "**Importing the Dataset**"
      ]
    },
    {
      "cell_type": "code",
      "metadata": {
        "id": "AsvTp_w-l-Km",
        "colab": {
          "resources": {
            "http://localhost:8080/nbextensions/google.colab/files.js": {
              "data": "Ly8gQ29weXJpZ2h0IDIwMTcgR29vZ2xlIExMQwovLwovLyBMaWNlbnNlZCB1bmRlciB0aGUgQXBhY2hlIExpY2Vuc2UsIFZlcnNpb24gMi4wICh0aGUgIkxpY2Vuc2UiKTsKLy8geW91IG1heSBub3QgdXNlIHRoaXMgZmlsZSBleGNlcHQgaW4gY29tcGxpYW5jZSB3aXRoIHRoZSBMaWNlbnNlLgovLyBZb3UgbWF5IG9idGFpbiBhIGNvcHkgb2YgdGhlIExpY2Vuc2UgYXQKLy8KLy8gICAgICBodHRwOi8vd3d3LmFwYWNoZS5vcmcvbGljZW5zZXMvTElDRU5TRS0yLjAKLy8KLy8gVW5sZXNzIHJlcXVpcmVkIGJ5IGFwcGxpY2FibGUgbGF3IG9yIGFncmVlZCB0byBpbiB3cml0aW5nLCBzb2Z0d2FyZQovLyBkaXN0cmlidXRlZCB1bmRlciB0aGUgTGljZW5zZSBpcyBkaXN0cmlidXRlZCBvbiBhbiAiQVMgSVMiIEJBU0lTLAovLyBXSVRIT1VUIFdBUlJBTlRJRVMgT1IgQ09ORElUSU9OUyBPRiBBTlkgS0lORCwgZWl0aGVyIGV4cHJlc3Mgb3IgaW1wbGllZC4KLy8gU2VlIHRoZSBMaWNlbnNlIGZvciB0aGUgc3BlY2lmaWMgbGFuZ3VhZ2UgZ292ZXJuaW5nIHBlcm1pc3Npb25zIGFuZAovLyBsaW1pdGF0aW9ucyB1bmRlciB0aGUgTGljZW5zZS4KCi8qKgogKiBAZmlsZW92ZXJ2aWV3IEhlbHBlcnMgZm9yIGdvb2dsZS5jb2xhYiBQeXRob24gbW9kdWxlLgogKi8KKGZ1bmN0aW9uKHNjb3BlKSB7CmZ1bmN0aW9uIHNwYW4odGV4dCwgc3R5bGVBdHRyaWJ1dGVzID0ge30pIHsKICBjb25zdCBlbGVtZW50ID0gZG9jdW1lbnQuY3JlYXRlRWxlbWVudCgnc3BhbicpOwogIGVsZW1lbnQudGV4dENvbnRlbnQgPSB0ZXh0OwogIGZvciAoY29uc3Qga2V5IG9mIE9iamVjdC5rZXlzKHN0eWxlQXR0cmlidXRlcykpIHsKICAgIGVsZW1lbnQuc3R5bGVba2V5XSA9IHN0eWxlQXR0cmlidXRlc1trZXldOwogIH0KICByZXR1cm4gZWxlbWVudDsKfQoKLy8gTWF4IG51bWJlciBvZiBieXRlcyB3aGljaCB3aWxsIGJlIHVwbG9hZGVkIGF0IGEgdGltZS4KY29uc3QgTUFYX1BBWUxPQURfU0laRSA9IDEwMCAqIDEwMjQ7CgpmdW5jdGlvbiBfdXBsb2FkRmlsZXMoaW5wdXRJZCwgb3V0cHV0SWQpIHsKICBjb25zdCBzdGVwcyA9IHVwbG9hZEZpbGVzU3RlcChpbnB1dElkLCBvdXRwdXRJZCk7CiAgY29uc3Qgb3V0cHV0RWxlbWVudCA9IGRvY3VtZW50LmdldEVsZW1lbnRCeUlkKG91dHB1dElkKTsKICAvLyBDYWNoZSBzdGVwcyBvbiB0aGUgb3V0cHV0RWxlbWVudCB0byBtYWtlIGl0IGF2YWlsYWJsZSBmb3IgdGhlIG5leHQgY2FsbAogIC8vIHRvIHVwbG9hZEZpbGVzQ29udGludWUgZnJvbSBQeXRob24uCiAgb3V0cHV0RWxlbWVudC5zdGVwcyA9IHN0ZXBzOwoKICByZXR1cm4gX3VwbG9hZEZpbGVzQ29udGludWUob3V0cHV0SWQpOwp9CgovLyBUaGlzIGlzIHJvdWdobHkgYW4gYXN5bmMgZ2VuZXJhdG9yIChub3Qgc3VwcG9ydGVkIGluIHRoZSBicm93c2VyIHlldCksCi8vIHdoZXJlIHRoZXJlIGFyZSBtdWx0aXBsZSBhc3luY2hyb25vdXMgc3RlcHMgYW5kIHRoZSBQeXRob24gc2lkZSBpcyBnb2luZwovLyB0byBwb2xsIGZvciBjb21wbGV0aW9uIG9mIGVhY2ggc3RlcC4KLy8gVGhpcyB1c2VzIGEgUHJvbWlzZSB0byBibG9jayB0aGUgcHl0aG9uIHNpZGUgb24gY29tcGxldGlvbiBvZiBlYWNoIHN0ZXAsCi8vIHRoZW4gcGFzc2VzIHRoZSByZXN1bHQgb2YgdGhlIHByZXZpb3VzIHN0ZXAgYXMgdGhlIGlucHV0IHRvIHRoZSBuZXh0IHN0ZXAuCmZ1bmN0aW9uIF91cGxvYWRGaWxlc0NvbnRpbnVlKG91dHB1dElkKSB7CiAgY29uc3Qgb3V0cHV0RWxlbWVudCA9IGRvY3VtZW50LmdldEVsZW1lbnRCeUlkKG91dHB1dElkKTsKICBjb25zdCBzdGVwcyA9IG91dHB1dEVsZW1lbnQuc3RlcHM7CgogIGNvbnN0IG5leHQgPSBzdGVwcy5uZXh0KG91dHB1dEVsZW1lbnQubGFzdFByb21pc2VWYWx1ZSk7CiAgcmV0dXJuIFByb21pc2UucmVzb2x2ZShuZXh0LnZhbHVlLnByb21pc2UpLnRoZW4oKHZhbHVlKSA9PiB7CiAgICAvLyBDYWNoZSB0aGUgbGFzdCBwcm9taXNlIHZhbHVlIHRvIG1ha2UgaXQgYXZhaWxhYmxlIHRvIHRoZSBuZXh0CiAgICAvLyBzdGVwIG9mIHRoZSBnZW5lcmF0b3IuCiAgICBvdXRwdXRFbGVtZW50Lmxhc3RQcm9taXNlVmFsdWUgPSB2YWx1ZTsKICAgIHJldHVybiBuZXh0LnZhbHVlLnJlc3BvbnNlOwogIH0pOwp9CgovKioKICogR2VuZXJhdG9yIGZ1bmN0aW9uIHdoaWNoIGlzIGNhbGxlZCBiZXR3ZWVuIGVhY2ggYXN5bmMgc3RlcCBvZiB0aGUgdXBsb2FkCiAqIHByb2Nlc3MuCiAqIEBwYXJhbSB7c3RyaW5nfSBpbnB1dElkIEVsZW1lbnQgSUQgb2YgdGhlIGlucHV0IGZpbGUgcGlja2VyIGVsZW1lbnQuCiAqIEBwYXJhbSB7c3RyaW5nfSBvdXRwdXRJZCBFbGVtZW50IElEIG9mIHRoZSBvdXRwdXQgZGlzcGxheS4KICogQHJldHVybiB7IUl0ZXJhYmxlPCFPYmplY3Q+fSBJdGVyYWJsZSBvZiBuZXh0IHN0ZXBzLgogKi8KZnVuY3Rpb24qIHVwbG9hZEZpbGVzU3RlcChpbnB1dElkLCBvdXRwdXRJZCkgewogIGNvbnN0IGlucHV0RWxlbWVudCA9IGRvY3VtZW50LmdldEVsZW1lbnRCeUlkKGlucHV0SWQpOwogIGlucHV0RWxlbWVudC5kaXNhYmxlZCA9IGZhbHNlOwoKICBjb25zdCBvdXRwdXRFbGVtZW50ID0gZG9jdW1lbnQuZ2V0RWxlbWVudEJ5SWQob3V0cHV0SWQpOwogIG91dHB1dEVsZW1lbnQuaW5uZXJIVE1MID0gJyc7CgogIGNvbnN0IHBpY2tlZFByb21pc2UgPSBuZXcgUHJvbWlzZSgocmVzb2x2ZSkgPT4gewogICAgaW5wdXRFbGVtZW50LmFkZEV2ZW50TGlzdGVuZXIoJ2NoYW5nZScsIChlKSA9PiB7CiAgICAgIHJlc29sdmUoZS50YXJnZXQuZmlsZXMpOwogICAgfSk7CiAgfSk7CgogIGNvbnN0IGNhbmNlbCA9IGRvY3VtZW50LmNyZWF0ZUVsZW1lbnQoJ2J1dHRvbicpOwogIGlucHV0RWxlbWVudC5wYXJlbnRFbGVtZW50LmFwcGVuZENoaWxkKGNhbmNlbCk7CiAgY2FuY2VsLnRleHRDb250ZW50ID0gJ0NhbmNlbCB1cGxvYWQnOwogIGNvbnN0IGNhbmNlbFByb21pc2UgPSBuZXcgUHJvbWlzZSgocmVzb2x2ZSkgPT4gewogICAgY2FuY2VsLm9uY2xpY2sgPSAoKSA9PiB7CiAgICAgIHJlc29sdmUobnVsbCk7CiAgICB9OwogIH0pOwoKICAvLyBXYWl0IGZvciB0aGUgdXNlciB0byBwaWNrIHRoZSBmaWxlcy4KICBjb25zdCBmaWxlcyA9IHlpZWxkIHsKICAgIHByb21pc2U6IFByb21pc2UucmFjZShbcGlja2VkUHJvbWlzZSwgY2FuY2VsUHJvbWlzZV0pLAogICAgcmVzcG9uc2U6IHsKICAgICAgYWN0aW9uOiAnc3RhcnRpbmcnLAogICAgfQogIH07CgogIGNhbmNlbC5yZW1vdmUoKTsKCiAgLy8gRGlzYWJsZSB0aGUgaW5wdXQgZWxlbWVudCBzaW5jZSBmdXJ0aGVyIHBpY2tzIGFyZSBub3QgYWxsb3dlZC4KICBpbnB1dEVsZW1lbnQuZGlzYWJsZWQgPSB0cnVlOwoKICBpZiAoIWZpbGVzKSB7CiAgICByZXR1cm4gewogICAgICByZXNwb25zZTogewogICAgICAgIGFjdGlvbjogJ2NvbXBsZXRlJywKICAgICAgfQogICAgfTsKICB9CgogIGZvciAoY29uc3QgZmlsZSBvZiBmaWxlcykgewogICAgY29uc3QgbGkgPSBkb2N1bWVudC5jcmVhdGVFbGVtZW50KCdsaScpOwogICAgbGkuYXBwZW5kKHNwYW4oZmlsZS5uYW1lLCB7Zm9udFdlaWdodDogJ2JvbGQnfSkpOwogICAgbGkuYXBwZW5kKHNwYW4oCiAgICAgICAgYCgke2ZpbGUudHlwZSB8fCAnbi9hJ30pIC0gJHtmaWxlLnNpemV9IGJ5dGVzLCBgICsKICAgICAgICBgbGFzdCBtb2RpZmllZDogJHsKICAgICAgICAgICAgZmlsZS5sYXN0TW9kaWZpZWREYXRlID8gZmlsZS5sYXN0TW9kaWZpZWREYXRlLnRvTG9jYWxlRGF0ZVN0cmluZygpIDoKICAgICAgICAgICAgICAgICAgICAgICAgICAgICAgICAgICAgJ24vYSd9IC0gYCkpOwogICAgY29uc3QgcGVyY2VudCA9IHNwYW4oJzAlIGRvbmUnKTsKICAgIGxpLmFwcGVuZENoaWxkKHBlcmNlbnQpOwoKICAgIG91dHB1dEVsZW1lbnQuYXBwZW5kQ2hpbGQobGkpOwoKICAgIGNvbnN0IGZpbGVEYXRhUHJvbWlzZSA9IG5ldyBQcm9taXNlKChyZXNvbHZlKSA9PiB7CiAgICAgIGNvbnN0IHJlYWRlciA9IG5ldyBGaWxlUmVhZGVyKCk7CiAgICAgIHJlYWRlci5vbmxvYWQgPSAoZSkgPT4gewogICAgICAgIHJlc29sdmUoZS50YXJnZXQucmVzdWx0KTsKICAgICAgfTsKICAgICAgcmVhZGVyLnJlYWRBc0FycmF5QnVmZmVyKGZpbGUpOwogICAgfSk7CiAgICAvLyBXYWl0IGZvciB0aGUgZGF0YSB0byBiZSByZWFkeS4KICAgIGxldCBmaWxlRGF0YSA9IHlpZWxkIHsKICAgICAgcHJvbWlzZTogZmlsZURhdGFQcm9taXNlLAogICAgICByZXNwb25zZTogewogICAgICAgIGFjdGlvbjogJ2NvbnRpbnVlJywKICAgICAgfQogICAgfTsKCiAgICAvLyBVc2UgYSBjaHVua2VkIHNlbmRpbmcgdG8gYXZvaWQgbWVzc2FnZSBzaXplIGxpbWl0cy4gU2VlIGIvNjIxMTU2NjAuCiAgICBsZXQgcG9zaXRpb24gPSAwOwogICAgd2hpbGUgKHBvc2l0aW9uIDwgZmlsZURhdGEuYnl0ZUxlbmd0aCkgewogICAgICBjb25zdCBsZW5ndGggPSBNYXRoLm1pbihmaWxlRGF0YS5ieXRlTGVuZ3RoIC0gcG9zaXRpb24sIE1BWF9QQVlMT0FEX1NJWkUpOwogICAgICBjb25zdCBjaHVuayA9IG5ldyBVaW50OEFycmF5KGZpbGVEYXRhLCBwb3NpdGlvbiwgbGVuZ3RoKTsKICAgICAgcG9zaXRpb24gKz0gbGVuZ3RoOwoKICAgICAgY29uc3QgYmFzZTY0ID0gYnRvYShTdHJpbmcuZnJvbUNoYXJDb2RlLmFwcGx5KG51bGwsIGNodW5rKSk7CiAgICAgIHlpZWxkIHsKICAgICAgICByZXNwb25zZTogewogICAgICAgICAgYWN0aW9uOiAnYXBwZW5kJywKICAgICAgICAgIGZpbGU6IGZpbGUubmFtZSwKICAgICAgICAgIGRhdGE6IGJhc2U2NCwKICAgICAgICB9LAogICAgICB9OwogICAgICBwZXJjZW50LnRleHRDb250ZW50ID0KICAgICAgICAgIGAke01hdGgucm91bmQoKHBvc2l0aW9uIC8gZmlsZURhdGEuYnl0ZUxlbmd0aCkgKiAxMDApfSUgZG9uZWA7CiAgICB9CiAgfQoKICAvLyBBbGwgZG9uZS4KICB5aWVsZCB7CiAgICByZXNwb25zZTogewogICAgICBhY3Rpb246ICdjb21wbGV0ZScsCiAgICB9CiAgfTsKfQoKc2NvcGUuZ29vZ2xlID0gc2NvcGUuZ29vZ2xlIHx8IHt9OwpzY29wZS5nb29nbGUuY29sYWIgPSBzY29wZS5nb29nbGUuY29sYWIgfHwge307CnNjb3BlLmdvb2dsZS5jb2xhYi5fZmlsZXMgPSB7CiAgX3VwbG9hZEZpbGVzLAogIF91cGxvYWRGaWxlc0NvbnRpbnVlLAp9Owp9KShzZWxmKTsK",
              "ok": true,
              "headers": [
                [
                  "content-type",
                  "application/javascript"
                ]
              ],
              "status": 200,
              "status_text": ""
            }
          },
          "base_uri": "https://localhost:8080/",
          "height": 72
        },
        "outputId": "40c9eab8-2c77-4cb7-972b-7655d1af08f3"
      },
      "source": [
        "from google.colab import files\n",
        "uploaded = files.upload()\n",
        "import pandas as pd\n",
        "\n",
        "import io\n",
        "\n",
        "dataset = pd.read_csv(io.BytesIO(uploaded['Processed_Combined_IoT_dataset.csv']))"
      ],
      "execution_count": 5,
      "outputs": [
        {
          "output_type": "display_data",
          "data": {
            "text/html": [
              "\n",
              "     <input type=\"file\" id=\"files-2af447a7-176c-41c0-aec9-8362b6d4cb30\" name=\"files[]\" multiple disabled\n",
              "        style=\"border:none\" />\n",
              "     <output id=\"result-2af447a7-176c-41c0-aec9-8362b6d4cb30\">\n",
              "      Upload widget is only available when the cell has been executed in the\n",
              "      current browser session. Please rerun this cell to enable.\n",
              "      </output>\n",
              "      <script src=\"/nbextensions/google.colab/files.js\"></script> "
            ],
            "text/plain": [
              "<IPython.core.display.HTML object>"
            ]
          },
          "metadata": {
            "tags": []
          }
        },
        {
          "output_type": "stream",
          "text": [
            "Saving Processed_Combined_IoT_dataset.csv to Processed_Combined_IoT_dataset.csv\n"
          ],
          "name": "stdout"
        }
      ]
    },
    {
      "cell_type": "markdown",
      "metadata": {
        "id": "2BWWYGPNGhst"
      },
      "source": [
        "**Exploratory Data Analysis**"
      ]
    },
    {
      "cell_type": "code",
      "metadata": {
        "colab": {
          "base_uri": "https://localhost:8080/",
          "height": 224
        },
        "id": "0hEM0bOClrjL",
        "outputId": "b7eed38c-84ca-446c-d494-ccce78d354d2"
      },
      "source": [
        "dataset.head()"
      ],
      "execution_count": 6,
      "outputs": [
        {
          "output_type": "execute_result",
          "data": {
            "text/html": [
              "<div>\n",
              "<style scoped>\n",
              "    .dataframe tbody tr th:only-of-type {\n",
              "        vertical-align: middle;\n",
              "    }\n",
              "\n",
              "    .dataframe tbody tr th {\n",
              "        vertical-align: top;\n",
              "    }\n",
              "\n",
              "    .dataframe thead th {\n",
              "        text-align: right;\n",
              "    }\n",
              "</style>\n",
              "<table border=\"1\" class=\"dataframe\">\n",
              "  <thead>\n",
              "    <tr style=\"text-align: right;\">\n",
              "      <th></th>\n",
              "      <th>FC1_Read_Input_Register</th>\n",
              "      <th>FC2_Read_Discrete_Value</th>\n",
              "      <th>FC3_Read_Holding_Register</th>\n",
              "      <th>FC4_Read_Coil</th>\n",
              "      <th>current_temperature</th>\n",
              "      <th>door_state</th>\n",
              "      <th>fridge_temperature</th>\n",
              "      <th>humidity</th>\n",
              "      <th>latitude</th>\n",
              "      <th>light_status</th>\n",
              "      <th>longitude</th>\n",
              "      <th>motion_status</th>\n",
              "      <th>pressure</th>\n",
              "      <th>sphone_signal</th>\n",
              "      <th>temp_condition</th>\n",
              "      <th>temperature</th>\n",
              "      <th>thermostat_status</th>\n",
              "      <th>label</th>\n",
              "    </tr>\n",
              "  </thead>\n",
              "  <tbody>\n",
              "    <tr>\n",
              "      <th>0</th>\n",
              "      <td>0.495216</td>\n",
              "      <td>0.499092</td>\n",
              "      <td>0.488897</td>\n",
              "      <td>0.499405</td>\n",
              "      <td>0.344399</td>\n",
              "      <td>0</td>\n",
              "      <td>0.930769</td>\n",
              "      <td>0.462511</td>\n",
              "      <td>0.008217</td>\n",
              "      <td>0</td>\n",
              "      <td>0.008112</td>\n",
              "      <td>0</td>\n",
              "      <td>0.533556</td>\n",
              "      <td>0.666667</td>\n",
              "      <td>0.2</td>\n",
              "      <td>0.517307</td>\n",
              "      <td>1</td>\n",
              "      <td>0</td>\n",
              "    </tr>\n",
              "    <tr>\n",
              "      <th>1</th>\n",
              "      <td>0.495216</td>\n",
              "      <td>0.499092</td>\n",
              "      <td>0.488897</td>\n",
              "      <td>0.499405</td>\n",
              "      <td>0.344399</td>\n",
              "      <td>0</td>\n",
              "      <td>0.588462</td>\n",
              "      <td>0.462511</td>\n",
              "      <td>0.008217</td>\n",
              "      <td>0</td>\n",
              "      <td>0.008112</td>\n",
              "      <td>0</td>\n",
              "      <td>0.533556</td>\n",
              "      <td>0.666667</td>\n",
              "      <td>0.2</td>\n",
              "      <td>0.517307</td>\n",
              "      <td>1</td>\n",
              "      <td>0</td>\n",
              "    </tr>\n",
              "    <tr>\n",
              "      <th>2</th>\n",
              "      <td>0.495216</td>\n",
              "      <td>0.499092</td>\n",
              "      <td>0.488897</td>\n",
              "      <td>0.499405</td>\n",
              "      <td>0.344399</td>\n",
              "      <td>0</td>\n",
              "      <td>0.076923</td>\n",
              "      <td>0.462511</td>\n",
              "      <td>0.008217</td>\n",
              "      <td>0</td>\n",
              "      <td>0.008112</td>\n",
              "      <td>0</td>\n",
              "      <td>0.533556</td>\n",
              "      <td>0.666667</td>\n",
              "      <td>0.8</td>\n",
              "      <td>0.517307</td>\n",
              "      <td>1</td>\n",
              "      <td>0</td>\n",
              "    </tr>\n",
              "    <tr>\n",
              "      <th>3</th>\n",
              "      <td>0.495216</td>\n",
              "      <td>0.499092</td>\n",
              "      <td>0.488897</td>\n",
              "      <td>0.499405</td>\n",
              "      <td>0.344399</td>\n",
              "      <td>0</td>\n",
              "      <td>0.292308</td>\n",
              "      <td>0.462511</td>\n",
              "      <td>0.008217</td>\n",
              "      <td>0</td>\n",
              "      <td>0.008112</td>\n",
              "      <td>0</td>\n",
              "      <td>0.533556</td>\n",
              "      <td>0.666667</td>\n",
              "      <td>0.8</td>\n",
              "      <td>0.517307</td>\n",
              "      <td>1</td>\n",
              "      <td>0</td>\n",
              "    </tr>\n",
              "    <tr>\n",
              "      <th>4</th>\n",
              "      <td>0.495216</td>\n",
              "      <td>0.499092</td>\n",
              "      <td>0.488897</td>\n",
              "      <td>0.499405</td>\n",
              "      <td>0.344399</td>\n",
              "      <td>0</td>\n",
              "      <td>0.746154</td>\n",
              "      <td>0.462511</td>\n",
              "      <td>0.008217</td>\n",
              "      <td>0</td>\n",
              "      <td>0.008112</td>\n",
              "      <td>0</td>\n",
              "      <td>0.533556</td>\n",
              "      <td>0.666667</td>\n",
              "      <td>0.2</td>\n",
              "      <td>0.517307</td>\n",
              "      <td>1</td>\n",
              "      <td>0</td>\n",
              "    </tr>\n",
              "  </tbody>\n",
              "</table>\n",
              "</div>"
            ],
            "text/plain": [
              "   FC1_Read_Input_Register  FC2_Read_Discrete_Value  ...  thermostat_status  label\n",
              "0                 0.495216                 0.499092  ...                  1      0\n",
              "1                 0.495216                 0.499092  ...                  1      0\n",
              "2                 0.495216                 0.499092  ...                  1      0\n",
              "3                 0.495216                 0.499092  ...                  1      0\n",
              "4                 0.495216                 0.499092  ...                  1      0\n",
              "\n",
              "[5 rows x 18 columns]"
            ]
          },
          "metadata": {
            "tags": []
          },
          "execution_count": 6
        }
      ]
    },
    {
      "cell_type": "code",
      "metadata": {
        "colab": {
          "base_uri": "https://localhost:8080/"
        },
        "id": "Bq4nVy0ILHdo",
        "outputId": "1b142d0e-b477-4425-d4e0-4ba4a8360b5d"
      },
      "source": [
        "print(dataset.shape)"
      ],
      "execution_count": 7,
      "outputs": [
        {
          "output_type": "stream",
          "text": [
            "(401119, 18)\n"
          ],
          "name": "stdout"
        }
      ]
    },
    {
      "cell_type": "code",
      "metadata": {
        "colab": {
          "base_uri": "https://localhost:8080/"
        },
        "id": "gJVXzqugDdWd",
        "outputId": "9e6aae75-efa3-4a2d-c19c-27230abe3286"
      },
      "source": [
        "print(list(dataset.columns))"
      ],
      "execution_count": 8,
      "outputs": [
        {
          "output_type": "stream",
          "text": [
            "['FC1_Read_Input_Register', 'FC2_Read_Discrete_Value', 'FC3_Read_Holding_Register', 'FC4_Read_Coil', 'current_temperature', 'door_state', 'fridge_temperature', 'humidity', 'latitude', 'light_status', 'longitude', 'motion_status', 'pressure', 'sphone_signal', 'temp_condition', 'temperature', 'thermostat_status', 'label']\n"
          ],
          "name": "stdout"
        }
      ]
    },
    {
      "cell_type": "code",
      "metadata": {
        "id": "kRuslnJmZbNZ",
        "colab": {
          "base_uri": "https://localhost:8080/"
        },
        "outputId": "e578ebb3-5106-486f-aa11-0378e14e2693"
      },
      "source": [
        "target_cols=list(dataset.columns[-1:])\n",
        "target_cols"
      ],
      "execution_count": 9,
      "outputs": [
        {
          "output_type": "execute_result",
          "data": {
            "text/plain": [
              "['label']"
            ]
          },
          "metadata": {
            "tags": []
          },
          "execution_count": 9
        }
      ]
    },
    {
      "cell_type": "code",
      "metadata": {
        "colab": {
          "base_uri": "https://localhost:8080/"
        },
        "id": "qDuBF5llF833",
        "outputId": "9d30b43a-0e64-47ce-fce6-1ae803dbce10"
      },
      "source": [
        "feature_cols= list(dataset.columns[:-1])\n",
        "feature_cols"
      ],
      "execution_count": 10,
      "outputs": [
        {
          "output_type": "execute_result",
          "data": {
            "text/plain": [
              "['FC1_Read_Input_Register',\n",
              " 'FC2_Read_Discrete_Value',\n",
              " 'FC3_Read_Holding_Register',\n",
              " 'FC4_Read_Coil',\n",
              " 'current_temperature',\n",
              " 'door_state',\n",
              " 'fridge_temperature',\n",
              " 'humidity',\n",
              " 'latitude',\n",
              " 'light_status',\n",
              " 'longitude',\n",
              " 'motion_status',\n",
              " 'pressure',\n",
              " 'sphone_signal',\n",
              " 'temp_condition',\n",
              " 'temperature',\n",
              " 'thermostat_status']"
            ]
          },
          "metadata": {
            "tags": []
          },
          "execution_count": 10
        }
      ]
    },
    {
      "cell_type": "markdown",
      "metadata": {
        "id": "poF7HvW6DvVp"
      },
      "source": [
        "**Split Dataset**"
      ]
    },
    {
      "cell_type": "code",
      "metadata": {
        "id": "lHM3bLWKHel7"
      },
      "source": [
        "#split dataset in features and target variable\n",
        "X = dataset.drop('label', axis=1) # Features\n",
        "y = dataset['label'] # Target variable"
      ],
      "execution_count": 11,
      "outputs": []
    },
    {
      "cell_type": "code",
      "metadata": {
        "colab": {
          "base_uri": "https://localhost:8080/",
          "height": 224
        },
        "id": "55_7-v6UdUQX",
        "outputId": "1ecc77e3-a42b-4098-9ba3-1a37ff1aa8fc"
      },
      "source": [
        "X.head()"
      ],
      "execution_count": 12,
      "outputs": [
        {
          "output_type": "execute_result",
          "data": {
            "text/html": [
              "<div>\n",
              "<style scoped>\n",
              "    .dataframe tbody tr th:only-of-type {\n",
              "        vertical-align: middle;\n",
              "    }\n",
              "\n",
              "    .dataframe tbody tr th {\n",
              "        vertical-align: top;\n",
              "    }\n",
              "\n",
              "    .dataframe thead th {\n",
              "        text-align: right;\n",
              "    }\n",
              "</style>\n",
              "<table border=\"1\" class=\"dataframe\">\n",
              "  <thead>\n",
              "    <tr style=\"text-align: right;\">\n",
              "      <th></th>\n",
              "      <th>FC1_Read_Input_Register</th>\n",
              "      <th>FC2_Read_Discrete_Value</th>\n",
              "      <th>FC3_Read_Holding_Register</th>\n",
              "      <th>FC4_Read_Coil</th>\n",
              "      <th>current_temperature</th>\n",
              "      <th>door_state</th>\n",
              "      <th>fridge_temperature</th>\n",
              "      <th>humidity</th>\n",
              "      <th>latitude</th>\n",
              "      <th>light_status</th>\n",
              "      <th>longitude</th>\n",
              "      <th>motion_status</th>\n",
              "      <th>pressure</th>\n",
              "      <th>sphone_signal</th>\n",
              "      <th>temp_condition</th>\n",
              "      <th>temperature</th>\n",
              "      <th>thermostat_status</th>\n",
              "    </tr>\n",
              "  </thead>\n",
              "  <tbody>\n",
              "    <tr>\n",
              "      <th>0</th>\n",
              "      <td>0.495216</td>\n",
              "      <td>0.499092</td>\n",
              "      <td>0.488897</td>\n",
              "      <td>0.499405</td>\n",
              "      <td>0.344399</td>\n",
              "      <td>0</td>\n",
              "      <td>0.930769</td>\n",
              "      <td>0.462511</td>\n",
              "      <td>0.008217</td>\n",
              "      <td>0</td>\n",
              "      <td>0.008112</td>\n",
              "      <td>0</td>\n",
              "      <td>0.533556</td>\n",
              "      <td>0.666667</td>\n",
              "      <td>0.2</td>\n",
              "      <td>0.517307</td>\n",
              "      <td>1</td>\n",
              "    </tr>\n",
              "    <tr>\n",
              "      <th>1</th>\n",
              "      <td>0.495216</td>\n",
              "      <td>0.499092</td>\n",
              "      <td>0.488897</td>\n",
              "      <td>0.499405</td>\n",
              "      <td>0.344399</td>\n",
              "      <td>0</td>\n",
              "      <td>0.588462</td>\n",
              "      <td>0.462511</td>\n",
              "      <td>0.008217</td>\n",
              "      <td>0</td>\n",
              "      <td>0.008112</td>\n",
              "      <td>0</td>\n",
              "      <td>0.533556</td>\n",
              "      <td>0.666667</td>\n",
              "      <td>0.2</td>\n",
              "      <td>0.517307</td>\n",
              "      <td>1</td>\n",
              "    </tr>\n",
              "    <tr>\n",
              "      <th>2</th>\n",
              "      <td>0.495216</td>\n",
              "      <td>0.499092</td>\n",
              "      <td>0.488897</td>\n",
              "      <td>0.499405</td>\n",
              "      <td>0.344399</td>\n",
              "      <td>0</td>\n",
              "      <td>0.076923</td>\n",
              "      <td>0.462511</td>\n",
              "      <td>0.008217</td>\n",
              "      <td>0</td>\n",
              "      <td>0.008112</td>\n",
              "      <td>0</td>\n",
              "      <td>0.533556</td>\n",
              "      <td>0.666667</td>\n",
              "      <td>0.8</td>\n",
              "      <td>0.517307</td>\n",
              "      <td>1</td>\n",
              "    </tr>\n",
              "    <tr>\n",
              "      <th>3</th>\n",
              "      <td>0.495216</td>\n",
              "      <td>0.499092</td>\n",
              "      <td>0.488897</td>\n",
              "      <td>0.499405</td>\n",
              "      <td>0.344399</td>\n",
              "      <td>0</td>\n",
              "      <td>0.292308</td>\n",
              "      <td>0.462511</td>\n",
              "      <td>0.008217</td>\n",
              "      <td>0</td>\n",
              "      <td>0.008112</td>\n",
              "      <td>0</td>\n",
              "      <td>0.533556</td>\n",
              "      <td>0.666667</td>\n",
              "      <td>0.8</td>\n",
              "      <td>0.517307</td>\n",
              "      <td>1</td>\n",
              "    </tr>\n",
              "    <tr>\n",
              "      <th>4</th>\n",
              "      <td>0.495216</td>\n",
              "      <td>0.499092</td>\n",
              "      <td>0.488897</td>\n",
              "      <td>0.499405</td>\n",
              "      <td>0.344399</td>\n",
              "      <td>0</td>\n",
              "      <td>0.746154</td>\n",
              "      <td>0.462511</td>\n",
              "      <td>0.008217</td>\n",
              "      <td>0</td>\n",
              "      <td>0.008112</td>\n",
              "      <td>0</td>\n",
              "      <td>0.533556</td>\n",
              "      <td>0.666667</td>\n",
              "      <td>0.2</td>\n",
              "      <td>0.517307</td>\n",
              "      <td>1</td>\n",
              "    </tr>\n",
              "  </tbody>\n",
              "</table>\n",
              "</div>"
            ],
            "text/plain": [
              "   FC1_Read_Input_Register  ...  thermostat_status\n",
              "0                 0.495216  ...                  1\n",
              "1                 0.495216  ...                  1\n",
              "2                 0.495216  ...                  1\n",
              "3                 0.495216  ...                  1\n",
              "4                 0.495216  ...                  1\n",
              "\n",
              "[5 rows x 17 columns]"
            ]
          },
          "metadata": {
            "tags": []
          },
          "execution_count": 12
        }
      ]
    },
    {
      "cell_type": "code",
      "metadata": {
        "colab": {
          "base_uri": "https://localhost:8080/"
        },
        "id": "Qc42gmuXdYTE",
        "outputId": "cd599053-c770-4dc7-f6dc-76fe754d81d3"
      },
      "source": [
        "y.head()"
      ],
      "execution_count": 13,
      "outputs": [
        {
          "output_type": "execute_result",
          "data": {
            "text/plain": [
              "0    0\n",
              "1    0\n",
              "2    0\n",
              "3    0\n",
              "4    0\n",
              "Name: label, dtype: int64"
            ]
          },
          "metadata": {
            "tags": []
          },
          "execution_count": 13
        }
      ]
    },
    {
      "cell_type": "markdown",
      "metadata": {
        "id": "1v471CZ0DpxX"
      },
      "source": [
        "**Splitting Data**"
      ]
    },
    {
      "cell_type": "code",
      "metadata": {
        "id": "Xt-6HOnsDngY"
      },
      "source": [
        "# Split dataset into training set and test set\n",
        "X_train, X_test, y_train, y_test = train_test_split(X, y, test_size=0.3, random_state=1) # 70% training and 30% test"
      ],
      "execution_count": 14,
      "outputs": []
    },
    {
      "cell_type": "code",
      "metadata": {
        "colab": {
          "base_uri": "https://localhost:8080/"
        },
        "id": "QpwOt4T3JJwY",
        "outputId": "82042836-f66e-4b7a-92b2-bcc61a4b3a3c"
      },
      "source": [
        "# Check the shape of all of these\n",
        "print(\"X_train shape is : \", X_train.shape)\n",
        "print(\"X_test shape  is : \", X_test.shape)\n",
        "print(\"y_train shape is : \", y_train.shape)\n",
        "print(\"y_test shape is  : \", y_test.shape)"
      ],
      "execution_count": 15,
      "outputs": [
        {
          "output_type": "stream",
          "text": [
            "X_train shape is :  (280783, 17)\n",
            "X_test shape  is :  (120336, 17)\n",
            "y_train shape is :  (280783,)\n",
            "y_test shape is  :  (120336,)\n"
          ],
          "name": "stdout"
        }
      ]
    },
    {
      "cell_type": "markdown",
      "metadata": {
        "id": "uu8yDYOAEZlI"
      },
      "source": [
        "**Building Model**"
      ]
    },
    {
      "cell_type": "code",
      "metadata": {
        "id": "aI8YKd80EgRn"
      },
      "source": [
        "#Calculate start time\n",
        "start = timeit.default_timer()\n",
        "\n",
        "#Create a Gaussian Classifier\n",
        "clf=RandomForestClassifier(n_estimators=100)\n",
        "\n",
        "#Train the model using the training sets y_pred=clf.predict(X_test)\n",
        "clf.fit(X_train,y_train)\n",
        "\n",
        "#Calculate Stop time\n",
        "stop = timeit.default_timer()\n",
        "train_time= stop - start"
      ],
      "execution_count": 16,
      "outputs": []
    },
    {
      "cell_type": "code",
      "metadata": {
        "id": "zqTSnzBrE9sk"
      },
      "source": [
        "#Calculate start time\n",
        "start = timeit.default_timer()\n",
        "\n",
        "# Predict the model\n",
        "y_pred=clf.predict(X_test)\n",
        "\n",
        "#Calculate Stop time\n",
        "stop = timeit.default_timer()\n",
        "test_time= stop - start"
      ],
      "execution_count": 17,
      "outputs": []
    },
    {
      "cell_type": "markdown",
      "metadata": {
        "id": "cGaWzP_KEnwY"
      },
      "source": [
        "**Evaluating Model**"
      ]
    },
    {
      "cell_type": "code",
      "metadata": {
        "id": "Z9FDpD4r8u33",
        "colab": {
          "base_uri": "https://localhost:8080/"
        },
        "outputId": "737216d0-ec3d-493b-fcc0-0fe333d14162"
      },
      "source": [
        "print(confusion_matrix(y_test,y_pred))\n",
        "print(classification_report(y_test,y_pred))"
      ],
      "execution_count": 18,
      "outputs": [
        {
          "output_type": "stream",
          "text": [
            "[[69916  3579]\n",
            " [12098 34743]]\n",
            "              precision    recall  f1-score   support\n",
            "\n",
            "           0       0.85      0.95      0.90     73495\n",
            "           1       0.91      0.74      0.82     46841\n",
            "\n",
            "    accuracy                           0.87    120336\n",
            "   macro avg       0.88      0.85      0.86    120336\n",
            "weighted avg       0.87      0.87      0.87    120336\n",
            "\n"
          ],
          "name": "stdout"
        }
      ]
    },
    {
      "cell_type": "code",
      "metadata": {
        "colab": {
          "base_uri": "https://localhost:8080/"
        },
        "id": "0dfwhoczEpdZ",
        "outputId": "2549bb8f-d038-4fb7-cc72-3b88a327ea49"
      },
      "source": [
        "# Model Accuracy: how often is the classifier correct?\n",
        "print(\"Accuracy:\",metrics.accuracy_score(y_test, y_pred))\n",
        "\n",
        "# Model Precision: what percentage of positive tuples are labeled as such?\n",
        "print(\"Precision:\",metrics.precision_score(y_test, y_pred))\n",
        "\n",
        "# Model Recall: what percentage of positive tuples are labelled as such?\n",
        "print(\"Recall:\",metrics.recall_score(y_test, y_pred))\n",
        "\n",
        "#Calculate F1 Score\n",
        "print(\"F1 Score:\",metrics.f1_score(y_test, y_pred))\n",
        "\n",
        "#Calculate Mean Absolute Error\n",
        "print(\"Mean Absolute Error:\",metrics.mean_absolute_error(y_test, y_pred))\n",
        "\n",
        "# kappa\n",
        "print(\"Cohens kappa:\", metrics.cohen_kappa_score(y_test, y_pred))\n",
        "\n",
        "# ROC AUC\n",
        "print(\"ROC AUC:\", metrics.roc_auc_score(y_test, y_pred))\n",
        "\n",
        "#Train time\n",
        "print('Train Time(s): ',train_time) \n",
        "\n",
        "#Test time\n",
        "print('Test Time(s): ',test_time)"
      ],
      "execution_count": 19,
      "outputs": [
        {
          "output_type": "stream",
          "text": [
            "Accuracy: 0.8697231086291717\n",
            "Precision: 0.9066071708157194\n",
            "Recall: 0.7417219956875387\n",
            "F1 Score: 0.8159177107429283\n",
            "Mean Absolute Error: 0.13027689137082835\n",
            "Cohens kappa: 0.7166594961151553\n",
            "ROC AUC: 0.8465124027012427\n",
            "Train Time(s):  64.67026302699992\n",
            "Test Time(s):  3.556681608999952\n"
          ],
          "name": "stdout"
        }
      ]
    },
    {
      "cell_type": "markdown",
      "metadata": {
        "id": "LHAh-usTCJ6Y"
      },
      "source": [
        "Multi-Layer Perceptron Classifier"
      ]
    },
    {
      "cell_type": "code",
      "metadata": {
        "id": "YVKAJhRU8HXr",
        "colab": {
          "base_uri": "https://localhost:8080/",
          "height": 621
        },
        "outputId": "5fc58c8d-20e8-4fef-de7e-2e440a20c989"
      },
      "source": [
        "from sklearn.metrics import confusion_matrix, zero_one_loss\n",
        "from sklearn.metrics import classification_report\n",
        "from sklearn.metrics import plot_confusion_matrix\n",
        "from sklearn.neural_network import MLPClassifier\n",
        "import timeit\n",
        "\n",
        "start1 = timeit.default_timer()\n",
        "classifier_1 = MLPClassifier(solver = 'sgd', alpha = 1e-5, hidden_layer_sizes = (5,2), random_state = 1)\n",
        "\n",
        "classifier_1.fit(X_train, y_train)\n",
        "stop1 = timeit.default_timer()\n",
        "train_time1= stop1 - start1\n",
        "#Train time\n",
        "print('Train Time(s): ',train_time1)\n",
        "start2 = timeit.default_timer()\n",
        "prediction_y_1 = classifier_1.predict(X_test)\n",
        "\n",
        "P = confusion_matrix(y_test,prediction_y_1)\n",
        "error = zero_one_loss(y_test,prediction_y_1)\n",
        "\n",
        "print(P)\n",
        "print('error:',error)\n",
        "print('Classification Report:')\n",
        "print(classification_report(y_test,prediction_y_1))\n",
        "stop2 = timeit.default_timer()\n",
        "test_time1= stop2 - start2 \n",
        "#Test time\n",
        "print('Test Time(s): ',test_time1)\n",
        "print('************************************')\n",
        "print('The accuracy for each attack type is', P.diagonal()/P.sum(axis=1))\n",
        "FalsePositive1 = P.sum(axis=0) - P.diagonal()\n",
        "FalseNegative1 = P.sum(axis=1) - P.diagonal()\n",
        "TruePositive1 = P.diagonal()\n",
        "TrueNegative1 = P.sum() - (FalsePositive1 + FalseNegative1 + TruePositive1)\n",
        "print('************************************')\n",
        "print('the Fpr rate is:', FalsePositive1/(FalsePositive1 + TrueNegative1))\n",
        "print()\n",
        "plot_confusion_matrix(classifier_1, X_test, y_test)\n",
        "plt.show()\n"
      ],
      "execution_count": 20,
      "outputs": [
        {
          "output_type": "stream",
          "text": [
            "Train Time(s):  86.77516502899994\n",
            "[[70574  2921]\n",
            " [21801 25040]]\n",
            "error: 0.20544143066081633\n",
            "Classification Report:\n",
            "              precision    recall  f1-score   support\n",
            "\n",
            "           0       0.76      0.96      0.85     73495\n",
            "           1       0.90      0.53      0.67     46841\n",
            "\n",
            "    accuracy                           0.79    120336\n",
            "   macro avg       0.83      0.75      0.76    120336\n",
            "weighted avg       0.82      0.79      0.78    120336\n",
            "\n",
            "Test Time(s):  0.4735506740000801\n",
            "************************************\n",
            "The accuracy for each attack type is [0.9602558  0.53457441]\n",
            "************************************\n",
            "the Fpr rate is: [0.46542559 0.0397442 ]\n",
            "\n"
          ],
          "name": "stdout"
        },
        {
          "output_type": "display_data",
          "data": {
            "image/png": "[encoded data removed]",
            "text/plain": [
              "<Figure size 432x288 with 2 Axes>"
            ]
          },
          "metadata": {
            "tags": [],
            "needs_background": "light"
          }
        }
      ]
    },
    {
      "cell_type": "markdown",
      "metadata": {
        "id": "8iObptrHOjM2"
      },
      "source": [
        "Logistic Regression"
      ]
    },
    {
      "cell_type": "code",
      "metadata": {
        "id": "GoOKHweEOm1j",
        "colab": {
          "base_uri": "https://localhost:8080/",
          "height": 619
        },
        "outputId": "d77beb03-3f84-43d5-e7aa-93d5af93d0f6"
      },
      "source": [
        "from sklearn.linear_model import LogisticRegression\n",
        "from sklearn.metrics import confusion_matrix, zero_one_loss\n",
        "from sklearn.metrics import classification_report\n",
        "from sklearn.metrics import plot_confusion_matrix\n",
        "import timeit\n",
        "\n",
        "start3 = timeit.default_timer()\n",
        "classifier_2 = LogisticRegression(solver = 'newton-cg', random_state=0, multi_class = 'multinomial')\n",
        "classifier_2.fit(X_train, y_train)\n",
        "stop3 = timeit.default_timer()\n",
        "train_time2 = stop3 - start3\n",
        "#Train time\n",
        "print('Train Time(s): ',train_time2)\n",
        "start4 = timeit.default_timer()\n",
        "prediction_y_2 = classifier_2.predict(X_test)\n",
        "\n",
        "P = confusion_matrix(y_test,prediction_y_2)\n",
        "error = zero_one_loss(y_test,prediction_y_2)\n",
        "\n",
        "print(P)\n",
        "print('error:',error)\n",
        "print('Classification Report:')\n",
        "print(classification_report(y_test,prediction_y_2))\n",
        "stop4 = timeit.default_timer()\n",
        "test_time2 = stop4 - start4\n",
        "#Test time\n",
        "print('Test Time(s): ',test_time2)\n",
        "print('************************************')\n",
        "print('The accuracy for each attack type is', P.diagonal()/P.sum(axis=1))\n",
        "FalsePositive2 = P.sum(axis=0) - P.diagonal()\n",
        "FalseNegative2 = P.sum(axis=1) - P.diagonal()\n",
        "TruePositive2 = P.diagonal()\n",
        "TrueNegative2 = P.sum() - (FalsePositive2 + FalseNegative2 + TruePositive2)\n",
        "print('************************************')\n",
        "print('the Fpr rate is:', FalsePositive2/(FalsePositive2 + TrueNegative2))\n",
        "print()\n",
        "plot_confusion_matrix(classifier_2, X_test, y_test)\n",
        "plt.show()"
      ],
      "execution_count": 21,
      "outputs": [
        {
          "output_type": "stream",
          "text": [
            "Train Time(s):  14.123165380000046\n",
            "[[71660  1835]\n",
            " [35726 11115]]\n",
            "error: 0.3121343571333599\n",
            "Classification Report:\n",
            "              precision    recall  f1-score   support\n",
            "\n",
            "           0       0.67      0.98      0.79     73495\n",
            "           1       0.86      0.24      0.37     46841\n",
            "\n",
            "    accuracy                           0.69    120336\n",
            "   macro avg       0.76      0.61      0.58    120336\n",
            "weighted avg       0.74      0.69      0.63    120336\n",
            "\n",
            "Test Time(s):  0.4374112340001375\n",
            "************************************\n",
            "The accuracy for each attack type is [0.97503232 0.23729212]\n",
            "************************************\n",
            "the Fpr rate is: [0.76270788 0.02496768]\n",
            "\n"
          ],
          "name": "stdout"
        },
        {
          "output_type": "display_data",
          "data": {
            "image/png": "[encoded data removed]",
            "text/plain": [
              "<Figure size 432x288 with 2 Axes>"
            ]
          },
          "metadata": {
            "tags": [],
            "needs_background": "light"
          }
        }
      ]
    },
    {
      "cell_type": "markdown",
      "metadata": {
        "id": "5zLUAD32P5CK"
      },
      "source": [
        "Nearest Centroid"
      ]
    },
    {
      "cell_type": "code",
      "metadata": {
        "id": "3bZ0Pq5pP6KQ",
        "colab": {
          "base_uri": "https://localhost:8080/",
          "height": 619
        },
        "outputId": "8077a21f-bd4e-43e0-bf1d-fc096a1f8f18"
      },
      "source": [
        "from sklearn.metrics import confusion_matrix, zero_one_loss\n",
        "from sklearn.metrics import classification_report\n",
        "from sklearn.metrics import plot_confusion_matrix\n",
        "from sklearn.neighbors import NearestCentroid\n",
        "import timeit\n",
        "\n",
        "start5 = timeit.default_timer()\n",
        "\n",
        "classifier_3 = NearestCentroid()\n",
        "classifier_3.fit(X_train, y_train)\n",
        "stop5 = timeit.default_timer()\n",
        "train_time3 = stop5 - start5\n",
        "#Train time\n",
        "print('Train Time(s): ',train_time3)\n",
        "start6 = timeit.default_timer()\n",
        "prediction_y_3 = classifier_3.predict(X_test)\n",
        "\n",
        "P = confusion_matrix(y_test, prediction_y_3)\n",
        "error = zero_one_loss(y_test, prediction_y_3)\n",
        "\n",
        "print(P)\n",
        "print('error:', error)\n",
        "print('Classification Report:')\n",
        "print(classification_report(y_test, prediction_y_3))\n",
        "stop6 = timeit.default_timer()\n",
        "test_time3 = stop6 - start6 \n",
        "#Test time\n",
        "print('Test Time(s): ',test_time3)\n",
        "print('************************************')\n",
        "print('The accuracy for each attack type is', P.diagonal()/P.sum(axis=1))\n",
        "FalsePositive3 = P.sum(axis=0) - P.diagonal()\n",
        "FalseNegative3 = P.sum(axis=1) - P.diagonal()\n",
        "TruePositive3 = P.diagonal()\n",
        "TrueNegative3 = P.sum() - (FalsePositive3 + FalseNegative3 + TruePositive3)\n",
        "print('************************************')\n",
        "print('the Fpr rate is:', FalsePositive3/(FalsePositive3 + TrueNegative3))\n",
        "print()\n",
        "plot_confusion_matrix(classifier_3, X_test, y_test)\n",
        "plt.show()"
      ],
      "execution_count": 22,
      "outputs": [
        {
          "output_type": "stream",
          "text": [
            "Train Time(s):  0.059029901000030804\n",
            "[[68129  5366]\n",
            " [30112 16729]]\n",
            "error: 0.2948244914240128\n",
            "Classification Report:\n",
            "              precision    recall  f1-score   support\n",
            "\n",
            "           0       0.69      0.93      0.79     73495\n",
            "           1       0.76      0.36      0.49     46841\n",
            "\n",
            "    accuracy                           0.71    120336\n",
            "   macro avg       0.73      0.64      0.64    120336\n",
            "weighted avg       0.72      0.71      0.67    120336\n",
            "\n",
            "Test Time(s):  0.4538353539999207\n",
            "************************************\n",
            "The accuracy for each attack type is [0.92698823 0.35714438]\n",
            "************************************\n",
            "the Fpr rate is: [0.64285562 0.07301177]\n",
            "\n"
          ],
          "name": "stdout"
        },
        {
          "output_type": "display_data",
          "data": {
            "image/png": "[encoded data removed]",
            "text/plain": [
              "<Figure size 432x288 with 2 Axes>"
            ]
          },
          "metadata": {
            "tags": [],
            "needs_background": "light"
          }
        }
      ]
    },
    {
      "cell_type": "markdown",
      "metadata": {
        "id": "dQBLZ5D7QsGt"
      },
      "source": [
        "Random Forest Classifier"
      ]
    },
    {
      "cell_type": "code",
      "metadata": {
        "id": "rr9iZaNYQxsB",
        "colab": {
          "base_uri": "https://localhost:8080/",
          "height": 619
        },
        "outputId": "c71a1304-7dbe-42f4-cc1a-bd1db163b726"
      },
      "source": [
        "from sklearn.metrics import confusion_matrix, zero_one_loss\n",
        "from sklearn.metrics import classification_report\n",
        "from sklearn.metrics import plot_confusion_matrix\n",
        "from sklearn.ensemble import RandomForestClassifier\n",
        "import timeit\n",
        "\n",
        "start7 = timeit.default_timer()\n",
        "classifier_4 = RandomForestClassifier(max_depth = 2, random_state = 0)\n",
        "classifier_4.fit(X_train, y_train)\n",
        "stop7 = timeit.default_timer()\n",
        "train_time4 = stop7 - start7\n",
        "#Train time\n",
        "print('Train Time(s): ',train_time4)\n",
        "start8 = timeit.default_timer()\n",
        "prediction_y_4 = classifier_4.predict(X_test)\n",
        "\n",
        "P = confusion_matrix(y_test, prediction_y_4)\n",
        "error = zero_one_loss(y_test, prediction_y_4)\n",
        "\n",
        "print(P)\n",
        "print('error:',error)\n",
        "print('Classification Report:')\n",
        "print(classification_report(y_test, prediction_y_4))\n",
        "stop8 = timeit.default_timer()\n",
        "test_time4 = stop8 - start8\n",
        "#Test time\n",
        "print('Test Time(s): ',test_time4)\n",
        "print('************************************')\n",
        "print('The accuracy for each attack type is', P.diagonal()/P.sum(axis=1))\n",
        "FalsePositive4 = P.sum(axis=0) - P.diagonal()\n",
        "FalseNegative4 = P.sum(axis=1) - P.diagonal()\n",
        "TruePositive4 = P.diagonal()\n",
        "TrueNegative4 = P.sum() - (FalsePositive4 + FalseNegative4 + TruePositive4)\n",
        "print('************************************')\n",
        "print('the Fpr rate is:', FalsePositive4/(FalsePositive4 + TrueNegative4))\n",
        "print()\n",
        "plot_confusion_matrix(classifier_4, X_test, y_test)\n",
        "plt.show()"
      ],
      "execution_count": 23,
      "outputs": [
        {
          "output_type": "stream",
          "text": [
            "Train Time(s):  8.129903158000161\n",
            "[[71488  2007]\n",
            " [28428 18413]]\n",
            "error: 0.25291683286796973\n",
            "Classification Report:\n",
            "              precision    recall  f1-score   support\n",
            "\n",
            "           0       0.72      0.97      0.82     73495\n",
            "           1       0.90      0.39      0.55     46841\n",
            "\n",
            "    accuracy                           0.75    120336\n",
            "   macro avg       0.81      0.68      0.69    120336\n",
            "weighted avg       0.79      0.75      0.72    120336\n",
            "\n",
            "Test Time(s):  0.9873947589999261\n",
            "************************************\n",
            "The accuracy for each attack type is [0.97269202 0.39309579]\n",
            "************************************\n",
            "the Fpr rate is: [0.60690421 0.02730798]\n",
            "\n"
          ],
          "name": "stdout"
        },
        {
          "output_type": "display_data",
          "data": {
            "image/png": "[encoded data removed]",
            "text/plain": [
              "<Figure size 432x288 with 2 Axes>"
            ]
          },
          "metadata": {
            "tags": [],
            "needs_background": "light"
          }
        }
      ]
    },
    {
      "cell_type": "markdown",
      "metadata": {
        "id": "ek2n2zYFRbIq"
      },
      "source": [
        "Decision Tree"
      ]
    },
    {
      "cell_type": "code",
      "metadata": {
        "id": "Pj9Pw8RARb2T",
        "colab": {
          "base_uri": "https://localhost:8080/",
          "height": 619
        },
        "outputId": "c6df7966-ad52-4d79-931a-e159150f9fc1"
      },
      "source": [
        "from sklearn.metrics import confusion_matrix, zero_one_loss\n",
        "from sklearn.metrics import classification_report\n",
        "from sklearn.metrics import plot_confusion_matrix\n",
        "from sklearn.tree import DecisionTreeClassifier\n",
        "import timeit\n",
        "\n",
        "start9 = timeit.default_timer()\n",
        "classifier_5 = DecisionTreeClassifier()\n",
        "classifier_5.fit(X_train, y_train)\n",
        "stop9 = timeit.default_timer()\n",
        "train_time5 = stop9 - start9\n",
        "#Train time\n",
        "print('Train Time(s): ',train_time5)\n",
        "start10 = timeit.default_timer()\n",
        "prediction_y_5 = classifier_5.predict(X_test)\n",
        "\n",
        "P = confusion_matrix(y_test, prediction_y_5)\n",
        "error = zero_one_loss(y_test, prediction_y_5)\n",
        "\n",
        "print(P)\n",
        "print('error:', error)\n",
        "print('Classification Report:')\n",
        "print(classification_report(y_test, prediction_y_5))\n",
        "stop10 = timeit.default_timer()\n",
        "test_time5 = stop10 - start10 \n",
        "#Test time\n",
        "print('Test Time(s): ',test_time5)\n",
        "print('************************************')\n",
        "print('The accuracy for each attack type is', P.diagonal()/P.sum(axis=1))\n",
        "FalsePositive5 = P.sum(axis=0) - P.diagonal()\n",
        "FalseNegative5 = P.sum(axis=1) - P.diagonal()\n",
        "TruePositive5 = P.diagonal()\n",
        "TrueNegative5 = P.sum() - (FalsePositive5 + FalseNegative5 + TruePositive5)\n",
        "print('************************************')\n",
        "print('the Fpr rate is:', FalsePositive5/(FalsePositive5 + TrueNegative5))\n",
        "print()\n",
        "plot_confusion_matrix(classifier_5, X_test, y_test)\n",
        "plt.show()"
      ],
      "execution_count": 24,
      "outputs": [
        {
          "output_type": "stream",
          "text": [
            "Train Time(s):  2.4421667369999795\n",
            "[[69377  4118]\n",
            " [12140 34701]]\n",
            "error: 0.13510503922350747\n",
            "Classification Report:\n",
            "              precision    recall  f1-score   support\n",
            "\n",
            "           0       0.85      0.94      0.90     73495\n",
            "           1       0.89      0.74      0.81     46841\n",
            "\n",
            "    accuracy                           0.86    120336\n",
            "   macro avg       0.87      0.84      0.85    120336\n",
            "weighted avg       0.87      0.86      0.86    120336\n",
            "\n",
            "Test Time(s):  0.42701062799983447\n",
            "************************************\n",
            "The accuracy for each attack type is [0.94396898 0.74082535]\n",
            "************************************\n",
            "the Fpr rate is: [0.25917465 0.05603102]\n",
            "\n"
          ],
          "name": "stdout"
        },
        {
          "output_type": "display_data",
          "data": {
            "image/png": "[encoded data removed]",
            "text/plain": [
              "<Figure size 432x288 with 2 Axes>"
            ]
          },
          "metadata": {
            "tags": [],
            "needs_background": "light"
          }
        }
      ]
    },
    {
      "cell_type": "markdown",
      "metadata": {
        "id": "Unu_lsOFZFRW"
      },
      "source": [
        "Confusion Matrix for all algorithms"
      ]
    },
    {
      "cell_type": "code",
      "metadata": {
        "colab": {
          "base_uri": "https://localhost:8080/",
          "height": 265
        },
        "id": "H7o3JQusZFn0",
        "outputId": "eb6b579a-5f94-4001-e047-a33792c46ef7"
      },
      "source": [
        "from sklearn.metrics import plot_confusion_matrix\n",
        "B_R=['MLP', 'Regression', 'Centroid', 'RF Classifier', 'Decision Tree']\n",
        "B_Y=['0.79','0.69','0.71','0.75','0.86']\n",
        "plt.bar(B_R,B_Y)\n",
        "plt.show()"
      ],
      "execution_count": 25,
      "outputs": [
        {
          "output_type": "display_data",
          "data": {
            "image/png": "[encoded data removed]",
            "text/plain": [
              "<Figure size 432x288 with 1 Axes>"
            ]
          },
          "metadata": {
            "tags": [],
            "needs_background": "light"
          }
        }
      ]
    }
  ]
}